{
  "cells": [
    {
      "cell_type": "markdown",
      "source": [
        "# Importing the libraries"
      ],
      "metadata": {
        "id": "bIw4fM97M05T"
      }
    },
    {
      "cell_type": "code",
      "execution_count": null,
      "metadata": {
        "id": "K3nx94yZGo9n"
      },
      "outputs": [],
      "source": [
        "import numpy as np\n",
        "import pandas as pd\n",
        "import matplotlib.pyplot as plt\n",
        "import seaborn as sns\n",
        "from sklearn.model_selection import train_test_split\n",
        "from sklearn.linear_model import LogisticRegression\n",
        "from sklearn.preprocessing import StandardScaler\n",
        "from sklearn.metrics import accuracy_score\n",
        "from sklearn.metrics import classification_report\n",
        "from sklearn.metrics import confusion_matrix\n",
        "from statsmodels.stats.outliers_influence import variance_inflation_factor\n",
        "from scipy.stats import zscore\n",
        "from imblearn.over_sampling import SMOTE\n",
        "from imblearn.under_sampling import RandomUnderSampler\n",
        "import statsmodels.api as sm\n",
        "from sklearn.decomposition import PCA"
      ]
    },
    {
      "cell_type": "markdown",
      "source": [
        "# Defining functions"
      ],
      "metadata": {
        "id": "003UZPf2MyJi"
      }
    },
    {
      "cell_type": "code",
      "source": [
        "# Function to replace NaN values in a column based on the distribution for specified countries\n",
        "\n",
        "np.random.seed(101)\n",
        "\n",
        "def replace_na_by_countries(df, column, countries):\n",
        "    # Iterate over each country in the specified list and replace NaN values based on the distribution\n",
        "    for country in countries:\n",
        "        # Create a mask for the current country\n",
        "        country_mask = df['country'] == country\n",
        "\n",
        "        # Get non-null values in the current column for the current country\n",
        "        non_null_values = df.loc[country_mask, column].dropna()\n",
        "\n",
        "        # Calculate probability distribution for the non-null values\n",
        "        prob_distribution = non_null_values.value_counts(normalize=True)\n",
        "\n",
        "        # Check if the probability distribution is not empty\n",
        "        if not prob_distribution.empty:\n",
        "            # Replace NaN values in the current column for the current country\n",
        "            missing_values_mask = country_mask & df[column].isna()\n",
        "            df.loc[missing_values_mask, column] = np.random.choice(prob_distribution.index,\n",
        "                                                                   size=missing_values_mask.sum(),\n",
        "                                                                   p=prob_distribution)\n",
        "\n",
        "# Function to map values in 'prr_vote' column\n",
        "\n",
        "def map_party_id(value):\n",
        "    if value in party_id_set:\n",
        "        return 1\n",
        "    else:\n",
        "        return 0\n",
        "\n",
        "# Function to change from numerical values in the V241 (Year of birth) column to strings\n",
        "\n",
        "def generation(value):\n",
        "    try:\n",
        "        year = float(value)\n",
        "        if year <= 1945:\n",
        "            return 'prewar'\n",
        "        elif 1946 <= year <= 1964:\n",
        "            return 'boomer'\n",
        "        elif 1965 <= year <= 1980:\n",
        "            return 'generation_x'\n",
        "        else:\n",
        "            return 'millennial'\n",
        "    except ValueError:\n",
        "        return 'invalid'\n",
        "\n",
        "# Function for linear transformation\n",
        "\n",
        "def linear_transformation(original_values, transformed_min, transformed_max):\n",
        "    slope = (transformed_max - transformed_min) / (max(original_values) - min(original_values))\n",
        "    intercept = transformed_min - slope * min(original_values)\n",
        "    transformed_values = (slope * original_values) + intercept\n",
        "    return transformed_values\n",
        "\n",
        "# Function to map number of children\n",
        "\n",
        "def map_children(x):\n",
        "    if x == 0:\n",
        "        return 'no children'\n",
        "    else:\n",
        "        return 'children'\n",
        "\n",
        "'''# Cox-Snell\n",
        "\n",
        "def cox_snell_r_squared(log_likelihood, n, base_rate):\n",
        "    return 1 - np.exp(-2 * log_likelihood / n) ** (2 / n)\n",
        "\n",
        "# Nagelkerke's R-squared\n",
        "\n",
        "def nagelkerke_r_squared(cox_snell_r_squared, max_possible_r_squared):\n",
        "    return cox_snell_r_squared / max_possible_r_squared\n",
        "'''"
      ],
      "metadata": {
        "id": "gv6GJk7ZaLwJ",
        "colab": {
          "base_uri": "https://localhost:8080/"
        },
        "outputId": "3707d209-82d0-487e-ee6c-7c099782455f"
      },
      "execution_count": null,
      "outputs": [
        {
          "output_type": "execute_result",
          "data": {
            "text/plain": [
              "\"# Cox-Snell\\n\\ndef cox_snell_r_squared(log_likelihood, n, base_rate):\\n    return 1 - np.exp(-2 * log_likelihood / n) ** (2 / n)\\n\\n# Nagelkerke's R-squared\\n\\ndef nagelkerke_r_squared(cox_snell_r_squared, max_possible_r_squared):\\n    return cox_snell_r_squared / max_possible_r_squared\\n\""
            ],
            "application/vnd.google.colaboratory.intrinsic+json": {
              "type": "string"
            }
          },
          "metadata": {},
          "execution_count": 102
        }
      ]
    },
    {
      "cell_type": "markdown",
      "source": [
        "# Importing the data"
      ],
      "metadata": {
        "id": "Zzv2Qp5zMuqY"
      }
    },
    {
      "cell_type": "code",
      "execution_count": null,
      "metadata": {
        "colab": {
          "base_uri": "https://localhost:8080/"
        },
        "id": "jE-VbIT8CEHG",
        "outputId": "b09e365f-e574-4c29-ab30-3cd48c7dc295"
      },
      "outputs": [
        {
          "output_type": "stream",
          "name": "stderr",
          "text": [
            "<ipython-input-103-1263d5bdaa39>:3: DtypeWarning: Columns (411,416,421,431,436,441) have mixed types. Specify dtype option on import or set low_memory=False.\n",
            "  wvs6 = pd.read_csv('/content/drive/MyDrive/Colab Notebooks/Thesis/WVS_6.csv')\n"
          ]
        }
      ],
      "source": [
        "# Importing data from the World Values Survery Wave 6\n",
        "\n",
        "wvs6 = pd.read_csv('/content/drive/MyDrive/Colab Notebooks/Thesis/WVS_6.csv')"
      ]
    },
    {
      "cell_type": "markdown",
      "source": [
        "# Data cleaning and preprocessing"
      ],
      "metadata": {
        "id": "CREplVFtM5ju"
      }
    },
    {
      "cell_type": "code",
      "execution_count": null,
      "metadata": {
        "id": "ASgNdJuomysl"
      },
      "outputs": [],
      "source": [
        "# Parsing countries from COW column to actual names\n",
        "\n",
        "country_mapping_wvs6 = {\n",
        "    2: 'United States of America',41: 'Haiti',52: 'Trinidad and Tobago',\n",
        "    70: 'Mexico',100: 'Colombia',130: 'Ecuador',135: 'Peru',140: 'Brazil',\n",
        "    155: 'Chile',160: 'Argentina',165: 'Uruguay',210: 'Netherlands',\n",
        "    230: 'Spain',255: 'Germany',290: 'Poland',349: 'Slovenia',352: 'Cyprus',\n",
        "    360: 'Romania',365: 'Russia',366: 'Estonia',369: 'Ukraine',370: 'Belarus',\n",
        "    371: 'Armenia',372: 'Georgia',373: 'Azerbaijan',380: 'Sweden',452: 'Ghana',\n",
        "    475: 'Nigeria',517: 'Rwanda',552: 'Zimbabwe',560: 'South Africa',\n",
        "    600: 'Morocco',615: 'Algeria',616: 'Tunisia',620: 'Libya',640: 'Turkey',\n",
        "    645: 'Iraq',651: 'Egypt',660: 'Lebanon',663: 'Jordan',667: 'Palestine',\n",
        "    679: 'Yemen',690: 'Kuwait',692: 'Bahrain',694: 'Qatar',703: 'Kyrgyzstan',\n",
        "    704: 'Uzbekistan',705: 'Kazakhstan',710: 'China',713: 'Taiwan',\n",
        "    714: 'Hong Kong',732: 'South Korea',740: 'Japan',750: 'India',\n",
        "    770: 'Pakistan',800: 'Thailand',820: 'Malasia',830: 'Singapore',\n",
        "    840: 'Philippines',900: 'Australia',920: 'New Zealand'\n",
        "}"
      ]
    },
    {
      "cell_type": "code",
      "execution_count": null,
      "metadata": {
        "id": "dhifPQLnm5iT"
      },
      "outputs": [],
      "source": [
        "# Mapping the country codes to country names from COW column\n",
        "\n",
        "wvs6['COW'] = wvs6['COW'].map(country_mapping_wvs6)"
      ]
    },
    {
      "cell_type": "code",
      "execution_count": null,
      "metadata": {
        "id": "aue0VS2-3oGt"
      },
      "outputs": [],
      "source": [
        "# Selecting data only from countries where there is information about the PRR universe\n",
        "\n",
        "prr_countries_wvs6 = ['Sweden', 'Netherlands', 'Cyprus', 'New Zealand',\n",
        "                      'Armenia','Estonia', 'Poland', 'Russia', 'Ukraine']"
      ]
    },
    {
      "cell_type": "code",
      "execution_count": null,
      "metadata": {
        "id": "_QW3wrhJmEOM"
      },
      "outputs": [],
      "source": [
        "# Creating a temporary variable to store data\n",
        "\n",
        "_wvs6 = wvs6.loc[wvs6['COW'].isin(prr_countries_wvs6)]"
      ]
    },
    {
      "cell_type": "code",
      "source": [
        "# Selecting questions\n",
        "\n",
        "# Country:\n",
        "_country = ['COW']\n",
        "\n",
        "# Authoritarianism scale:\n",
        "_authoritarianism = ['V21', 'V66', 'V69', 'V127', 'V128', 'V135',\n",
        "                     'V138', 'V187']\n",
        "                    # Removed 'V36', 'V129'\n",
        "                    # Added 'V21'\n",
        "\n",
        "# Nativism scale:\n",
        "_nativism = ['V37', 'V39', 'V41', 'V44', 'V46', 'V106', 'V107',\n",
        "                    'V154', 'V156', 'V212']\n",
        "\n",
        "# Equality scale:\n",
        "#_equality = ['V96', 'V131']\n",
        "\n",
        "# Genre scale:\n",
        "_genre = ['V40', 'V45', 'V47', 'V48', 'V50', 'V51', 'V52', 'V53',\n",
        "          'V54', 'V139']\n",
        "\n",
        "# Populism scale:\n",
        "_populism = ['V98', 'V109', 'V110','V113', 'V114', 'V115', 'V116',\n",
        "                    'V117', 'V119', 'V120','V121', 'V126']\n",
        "\n",
        "# Demographic data:\n",
        "_demo = ['V57', 'V58', 'V59', 'V147', 'V188', 'V229', 'V239', 'V240',\n",
        "         'V241', 'V248', 'V253', 'V265']\n",
        "\n",
        "_positioning = ['V95', 'V191']\n",
        "\n",
        "# Indepemdemt variable:\n",
        "\n",
        "vote = ['V228']"
      ],
      "metadata": {
        "id": "3cMRKUPaKeDD"
      },
      "execution_count": null,
      "outputs": []
    },
    {
      "cell_type": "code",
      "source": [
        "# Combine all scales into a list and then create a new DataFrame\n",
        "all_scales = [_country, _authoritarianism, _nativism, _genre, _populism, _demo,\n",
        "              _positioning, vote]\n",
        "\n",
        "# Create an empty DataFrame to store the selected columns from each scale\n",
        "combined_df = pd.DataFrame()\n",
        "\n",
        "# Iterate through each scale and select the corresponding columns\n",
        "for scale in all_scales:\n",
        "    combined_df = pd.concat([combined_df, _wvs6[scale]], axis=1)"
      ],
      "metadata": {
        "id": "5a3gaiWfeVN-"
      },
      "execution_count": null,
      "outputs": []
    },
    {
      "cell_type": "code",
      "source": [
        "# Renaming COW column to country and V228 to prr_vote\n",
        "\n",
        "combined_df.rename(columns={'COW': 'country'}, inplace=True)\n",
        "combined_df.rename(columns={'V228': 'prr_vote'}, inplace=True)"
      ],
      "metadata": {
        "id": "fSAcmg76qC9n"
      },
      "execution_count": null,
      "outputs": []
    },
    {
      "cell_type": "code",
      "source": [
        "# Removing non respondents to V241 and setting NaN values for prr_vote\n",
        "\n",
        "combined_df = combined_df[~combined_df['prr_vote'].isin([-5, -4, -3, -2, -1, 1, 2, 3, 4, 5, 6, 7])]\n",
        "combined_df = combined_df[~combined_df['V241'].isin([-1, -2])]"
      ],
      "metadata": {
        "id": "L1Bjig_JVBUQ"
      },
      "execution_count": null,
      "outputs": []
    },
    {
      "cell_type": "code",
      "source": [
        "# Creating a new dataframe without non-respondents to V241\n",
        "\n",
        "filtered_df = pd.DataFrame(data=combined_df, columns=combined_df.columns)\n",
        "\n",
        "# Reseting the index of the DataFrame\n",
        "filtered_df.reset_index(drop=True, inplace=True)"
      ],
      "metadata": {
        "id": "E7MN6ZWYVE0G"
      },
      "execution_count": null,
      "outputs": []
    },
    {
      "cell_type": "code",
      "source": [
        "# Replacing negative values (missing values) with NaN\n",
        "\n",
        "filtered_df.replace(to_replace=[-5,-4,-3,-2,-1], value=np.nan, inplace=True)"
      ],
      "metadata": {
        "id": "p3FY77e7ppEk"
      },
      "execution_count": null,
      "outputs": []
    },
    {
      "cell_type": "code",
      "source": [
        "# Step 1: Filter the DataFrame to exclude rows from New Zealand and exclude NaN values from specified columns\n",
        "selected_data = filtered_df[(filtered_df['country'] != 'New Zealand') &\n",
        "                            (~filtered_df['V106'].isna()) &\n",
        "                            (~filtered_df['V107'].isna()) &\n",
        "                            (~filtered_df['V212'].isna())]\n",
        "\n",
        "# Step 2: Calculate mode values for columns 'V106', 'V107', and 'V212' from filtered data\n",
        "mode_values = selected_data[['V106', 'V107', 'V212']].mode()\n",
        "\n",
        "# Step 3: Fill NaN values in these columns for New Zealand with mode values\n",
        "filtered_df.loc[filtered_df['country'] == 'New Zealand', ['V106', 'V107', 'V212']] = \\\n",
        "    filtered_df.loc[filtered_df['country'] == 'New Zealand', ['V106', 'V107', 'V212']].fillna(mode_values.iloc[0])"
      ],
      "metadata": {
        "id": "XOblmIFKuW3_"
      },
      "execution_count": null,
      "outputs": []
    },
    {
      "cell_type": "code",
      "source": [
        "# Iterate over each column and replace NaN values based on the distribution for specified countries.\n",
        "\n",
        "for column in filtered_df.columns:\n",
        "    replace_na_by_countries(filtered_df, column, prr_countries_wvs6)"
      ],
      "metadata": {
        "id": "TCROcNF-Z5tN"
      },
      "execution_count": null,
      "outputs": []
    },
    {
      "cell_type": "code",
      "source": [
        "# Parsing binary values to 0/1 scale\n",
        "\n",
        "filtered_df['V21'] = filtered_df['V21'].replace({2: 0})\n",
        "filtered_df['V37'] = filtered_df['V37'].replace({2: 0})\n",
        "filtered_df['V39'] = filtered_df['V39'].replace({2: 0})\n",
        "filtered_df['V40'] = filtered_df['V40'].replace({2: 0})\n",
        "filtered_df['V41'] = filtered_df['V41'].replace({2: 0})\n",
        "filtered_df['V44'] = filtered_df['V44'].replace({2: 0})\n",
        "filtered_df['V66'] = filtered_df['V66'].replace({2: 0})"
      ],
      "metadata": {
        "id": "HXhzMkU5ulNQ"
      },
      "execution_count": null,
      "outputs": []
    },
    {
      "cell_type": "code",
      "source": [
        "min_max_values_6 = {\n",
        "    'V21': {'min': filtered_df['V21'].min(), 'max': filtered_df['V21'].max()},\n",
        "    'V37': {'min': filtered_df['V37'].min(), 'max': filtered_df['V37'].max()},\n",
        "    'V39': {'min': filtered_df['V39'].min(), 'max': filtered_df['V39'].max()},\n",
        "    'V40': {'min': filtered_df['V40'].min(), 'max': filtered_df['V40'].max()},\n",
        "    'V41': {'min': filtered_df['V41'].min(), 'max': filtered_df['V41'].max()},\n",
        "    'V44': {'min': filtered_df['V44'].min(), 'max': filtered_df['V44'].max()},\n",
        "    'V45': {'min': filtered_df['V45'].min(), 'max': filtered_df['V45'].max()},\n",
        "    'V46': {'min': filtered_df['V46'].min(), 'max': filtered_df['V46'].max()},\n",
        "    'V47': {'min': filtered_df['V47'].min(), 'max': filtered_df['V47'].max()},\n",
        "    'V50': {'min': filtered_df['V50'].min(), 'max': filtered_df['V50'].max()},\n",
        "    'V51': {'min': filtered_df['V51'].min(), 'max': filtered_df['V51'].max()},\n",
        "    'V52': {'min': filtered_df['V52'].min(), 'max': filtered_df['V52'].max()},\n",
        "    'V53': {'min': filtered_df['V53'].min(), 'max': filtered_df['V53'].max()},\n",
        "    'V54': {'min': filtered_df['V54'].min(), 'max': filtered_df['V54'].max()},\n",
        "    'V66': {'min': filtered_df['V66'].min(), 'max': filtered_df['V66'].max()},\n",
        "    'V69': {'min': filtered_df['V69'].min(), 'max': filtered_df['V69'].max()},\n",
        "    'V98': {'min': filtered_df['V98'].min(), 'max': filtered_df['V98'].max()},\n",
        "    'V106': {'min': filtered_df['V106'].min(), 'max': filtered_df['V106'].max()},\n",
        "    'V107': {'min': filtered_df['V107'].min(), 'max': filtered_df['V107'].max()},\n",
        "    'V109': {'min': filtered_df['V109'].min(), 'max': filtered_df['V109'].max()},\n",
        "    'V110': {'min': filtered_df['V110'].min(), 'max': filtered_df['V110'].max()},\n",
        "    'V113': {'min': filtered_df['V113'].min(), 'max': filtered_df['V113'].max()},\n",
        "    'V114': {'min': filtered_df['V114'].min(), 'max': filtered_df['V114'].max()},\n",
        "    'V115': {'min': filtered_df['V115'].min(), 'max': filtered_df['V115'].max()},\n",
        "    'V116': {'min': filtered_df['V116'].min(), 'max': filtered_df['V116'].max()},\n",
        "    'V117': {'min': filtered_df['V117'].min(), 'max': filtered_df['V117'].max()},\n",
        "    'V119': {'min': filtered_df['V119'].min(), 'max': filtered_df['V119'].max()},\n",
        "    'V120': {'min': filtered_df['V120'].min(), 'max': filtered_df['V120'].max()},\n",
        "    'V121': {'min': filtered_df['V121'].min(), 'max': filtered_df['V121'].max()},\n",
        "    'V126': {'min': filtered_df['V126'].min(), 'max': filtered_df['V126'].max()},\n",
        "    'V127': {'min': filtered_df['V127'].min(), 'max': filtered_df['V127'].max()},\n",
        "    'V128': {'min': filtered_df['V128'].min(), 'max': filtered_df['V128'].max()},\n",
        "    'V135': {'min': filtered_df['V135'].min(), 'max': filtered_df['V135'].max()},\n",
        "    'V138': {'min': filtered_df['V138'].min(), 'max': filtered_df['V138'].max()},\n",
        "    'V139': {'min': filtered_df['V139'].min(), 'max': filtered_df['V139'].max()},\n",
        "    'V154': {'min': filtered_df['V154'].min(), 'max': filtered_df['V154'].max()},\n",
        "    'V191': {'min': filtered_df['V191'].min(), 'max': filtered_df['V191'].max()}\n",
        "\n",
        "}\n",
        "# Apply linear transformation to each variable and create individual transformed columns\n",
        "for scale, values in min_max_values_6.items():\n",
        "    transformed_values = linear_transformation(filtered_df[scale], 0, 10)  # Transform to 1-10 scale\n",
        "    filtered_df[f'{scale}_t'] = transformed_values  # Create individual transformed column"
      ],
      "metadata": {
        "id": "ijuk2Fb9u1x6"
      },
      "execution_count": null,
      "outputs": []
    },
    {
      "cell_type": "code",
      "source": [
        "# Selecting transformed questions\n",
        "\n",
        "# Country:\n",
        "country = ['country']\n",
        "\n",
        "# Authoritarianism scale:\n",
        "t_authoritarianism = ['V21_t', 'V66_t', 'V69_t', 'V127_t', 'V128_t', 'V135_t',\n",
        "                        'V138_t']\n",
        "                    # Removed 'V36', 'V129'\n",
        "                    # Added 'V21'\n",
        "\n",
        "# Nativism scale:\n",
        "t_nativism = ['V37_t', 'V39_t', 'V41_t', 'V44_t', 'V46_t', 'V106_t', 'V107_t',\n",
        "                'V154_t']\n",
        "\n",
        "# Equality scale:\n",
        "#_equality = ['V96', 'V131']\n",
        "\n",
        "# Genre scale:\n",
        "t_genre = ['V40_t', 'V45_t', 'V47_t', 'V50_t', 'V51_t', 'V52_t',\n",
        "             'V53_t', 'V54_t', 'V139_t']\n",
        "\n",
        "# Populism scale:\n",
        "t_populism = ['V98_t', 'V109_t', 'V110_t','V113_t', 'V114_t', 'V115_t',\n",
        "                'V116_t', 'V117_t', 'V119_t', 'V120_t','V121_t', 'V126_t']\n",
        "\n",
        "# Demographic data:\n",
        "t_demo = ['V57', 'V58', 'V59', 'V147', 'V188', 'V229', 'V239', 'V240',\n",
        "          'V241', 'V248', 'V253', 'V265']\n",
        "\n",
        "t_positioning = ['V95', 'V191_t']\n",
        "\n",
        "# Indepemdemt variable:\n",
        "\n",
        "vote = ['prr_vote']"
      ],
      "metadata": {
        "id": "cuoxrxuYVkm6"
      },
      "execution_count": null,
      "outputs": []
    },
    {
      "cell_type": "code",
      "source": [
        "# Combine all scales into a list and then create a new DataFrame\n",
        "all_scales = [country, t_authoritarianism, t_nativism, t_genre, t_populism,\n",
        "              t_positioning, t_demo, vote]\n",
        "\n",
        "# Create an empty DataFrame to store the selected columns from each scale\n",
        "transformed_df = pd.DataFrame()\n",
        "\n",
        "# Iterate through each scale and select the corresponding columns\n",
        "for scale in all_scales:\n",
        "    transformed_df = pd.concat([transformed_df, filtered_df[scale]], axis=1)"
      ],
      "metadata": {
        "id": "sLC50JjUVoi8"
      },
      "execution_count": null,
      "outputs": []
    },
    {
      "cell_type": "markdown",
      "source": [
        "# Mapping the dependet variable column"
      ],
      "metadata": {
        "id": "Sh2uK48TPwO7"
      }
    },
    {
      "cell_type": "code",
      "source": [
        "# Parsing countries from prr_vote column to actual vote for the prr from the populist_radical_right_ranking.ipynb\n",
        "\n",
        "party_id_list = [752009, 528013, 528006, 196018, 196003, 554008, 51027, 233029,\n",
        "                 616031, 643003, 804102, 804101, 804113, 804102]\n",
        "\n",
        "# Create a set for faster lookup\n",
        "party_id_set = set(party_id_list)\n",
        "\n",
        "# Apply the function to the 'prr_vote' column\n",
        "transformed_df['prr_vote'] = transformed_df['prr_vote'].map(map_party_id)"
      ],
      "metadata": {
        "id": "1Bb4dy6A4jpz"
      },
      "execution_count": null,
      "outputs": []
    },
    {
      "cell_type": "code",
      "execution_count": null,
      "metadata": {
        "colab": {
          "base_uri": "https://localhost:8080/"
        },
        "outputId": "1d5d3fee-d07a-4d08-acb0-f1e8ea9ea7ad",
        "id": "hrLvmCud4jpz"
      },
      "outputs": [
        {
          "output_type": "execute_result",
          "data": {
            "text/plain": [
              "0    7418\n",
              "1    1044\n",
              "Name: prr_vote, dtype: int64"
            ]
          },
          "metadata": {},
          "execution_count": 121
        }
      ],
      "source": [
        "transformed_df['prr_vote'].value_counts()"
      ]
    },
    {
      "cell_type": "code",
      "execution_count": null,
      "metadata": {
        "colab": {
          "base_uri": "https://localhost:8080/"
        },
        "outputId": "3465b24e-4a8b-44d5-bbc3-e6e62b3fb59a",
        "id": "VRazgr9q4jp0"
      },
      "outputs": [
        {
          "output_type": "stream",
          "name": "stdout",
          "text": [
            "Correlation between Self Positioning in Political Scale and Populist Radical Right Vote: 8.01 %\n"
          ]
        }
      ],
      "source": [
        "# Measuring the correlation between self-positioning in the political scale and vote for the populist radical right\n",
        "\n",
        "correlation_value = transformed_df['V95'].corr(transformed_df['prr_vote'])\n",
        "\n",
        "print('Correlation between Self Positioning in Political Scale and Populist Radical Right Vote:', round(correlation_value*100,2),'%')"
      ]
    },
    {
      "cell_type": "code",
      "source": [
        "transformed_df['V241'].value_counts()"
      ],
      "metadata": {
        "colab": {
          "base_uri": "https://localhost:8080/"
        },
        "id": "fuXwuVshCA5h",
        "outputId": "f728c50c-eab7-484e-9aa0-ccf4c6e1b0a7"
      },
      "execution_count": null,
      "outputs": [
        {
          "output_type": "execute_result",
          "data": {
            "text/plain": [
              "1958    175\n",
              "1946    172\n",
              "1959    169\n",
              "1961    166\n",
              "1954    163\n",
              "       ... \n",
              "1923      5\n",
              "1994      4\n",
              "1921      3\n",
              "1919      2\n",
              "1920      1\n",
              "Name: V241, Length: 76, dtype: int64"
            ]
          },
          "metadata": {},
          "execution_count": 123
        }
      ]
    },
    {
      "cell_type": "markdown",
      "source": [
        "# Demographic variables adjustments"
      ],
      "metadata": {
        "id": "ARk3f89k4KXV"
      }
    },
    {
      "cell_type": "code",
      "source": [
        "# Parsing marital status from V57 column to actual names\n",
        "\n",
        "marital_status = {1: 'married', 2: 'married', 3: 'separated_divorced_widowed',\n",
        "                    4: 'separated_divorced_widowed',\n",
        "                    5: 'separated_divorced_widowed', 6: 'never married'\n",
        "}\n",
        "\n",
        "# Mapping marital status numeric values to marital status married or not married  from V57 column\n",
        "\n",
        "transformed_df['V57'] = transformed_df['V57'].map(marital_status)\n",
        "\n",
        "# Dropping the never married dummy variable.\n",
        "category_to_drop_1 = 'never married'\n",
        "\n",
        "# Create dummy variables without dropping the first category\n",
        "dummy_df_1 = pd.get_dummies(transformed_df['V57'], prefix='V57', drop_first=False)\n",
        "\n",
        "# Drop the specified category\n",
        "if f'V57_{category_to_drop_1}' in dummy_df_1.columns:\n",
        "    dummy_df_1.drop(f'V57_{category_to_drop_1}', axis=1, inplace=True)\n",
        "\n"
      ],
      "metadata": {
        "id": "NmkhndPb36cO"
      },
      "execution_count": null,
      "outputs": []
    },
    {
      "cell_type": "code",
      "source": [
        "# Parsing how many children from V58 column to actual names\n",
        "\n",
        "children = {0: 'no children', 1: 'children', 2: 'children', 3: 'children',\n",
        "              4: 'children', 5: 'children', 6: 'children', 7: 'children',\n",
        "              8: 'children'\n",
        "}\n",
        "\n",
        "# Mapping children numeric values to marital status married or not married  from V57 column\n",
        "\n",
        "transformed_df['V58'] = transformed_df['V58'].map(children)\n",
        "\n",
        "# Dropping the children dummy variable.\n",
        "category_to_drop_2 = 'no children'\n",
        "\n",
        "# Create dummy variables without dropping the first category\n",
        "dummy_df_2 = pd.get_dummies(transformed_df['V58'], prefix='V58', drop_first=False)\n",
        "\n",
        "# Drop the specified category\n",
        "if f'V58_{category_to_drop_2}' in dummy_df_2.columns:\n",
        "    dummy_df_2.drop(f'V58_{category_to_drop_2}', axis=1, inplace=True)"
      ],
      "metadata": {
        "id": "hiNilpCfUSI4"
      },
      "execution_count": null,
      "outputs": []
    },
    {
      "cell_type": "code",
      "source": [
        "# Parsing religious status from V147 column to actual names\n",
        "\n",
        "religious = {\n",
        "    1:'religious', 2:'no religious', 3:'no religious'\n",
        "}\n",
        "\n",
        "# Mapping the religious status numeric values to religious status names from V147 column\n",
        "\n",
        "transformed_df['V147'] = transformed_df['V147'].map(religious)\n",
        "\n",
        "dummy_df_3 = pd.get_dummies(transformed_df['V147'], drop_first=True)"
      ],
      "metadata": {
        "id": "InrlsK6T44zS"
      },
      "execution_count": null,
      "outputs": []
    },
    {
      "cell_type": "code",
      "source": [
        "# Parsing employment status from V229 column to actual names\n",
        "\n",
        "employment_type = {\n",
        "    1: 'employed', 2: 'employed', 3: 'employed', 4: 'employed',\n",
        "    5: 'unemployed', 6: 'unemployed', 7: 'unemployed', 8: 'unemployed'\n",
        "}\n",
        "\n",
        "# Mapping the employment status numeric values to employment status names from V229 column\n",
        "\n",
        "transformed_df['V229'] = transformed_df['V229'].map(employment_type)\n",
        "\n",
        "dummy_df_4 = pd.get_dummies(transformed_df['V229'], drop_first=True)"
      ],
      "metadata": {
        "id": "12dHXye936cO"
      },
      "execution_count": null,
      "outputs": []
    },
    {
      "cell_type": "code",
      "source": [
        " # Parsing scale of incomes from V239 column to actual names\n",
        "\n",
        "incomes_scale = {\n",
        "    1: 'first_halve',2: 'first_halve',3: 'first_halve',4: 'first_halve',\n",
        "    5: 'first_halve',6: 'second_halve',7: 'second_halve',8: 'second_halve',\n",
        "    9: 'second_halve', 10: 'second_halve'\n",
        "}\n",
        "\n",
        "# Mapping the scale of incomes numeric values to scale of incomes names from V239 column\n",
        "\n",
        "transformed_df['V239'] = transformed_df['V239'].map(incomes_scale)\n",
        "\n",
        "dummy_df_5 = pd.get_dummies(transformed_df['V239'], drop_first=True)"
      ],
      "metadata": {
        "id": "LT-HuY-j36cO"
      },
      "execution_count": null,
      "outputs": []
    },
    {
      "cell_type": "code",
      "source": [
        "# Parsing sex from V240 column to actual names\n",
        "\n",
        "sex = {\n",
        "    1: 'male',2: 'female'\n",
        "}\n",
        "\n",
        "# Mapping sex numeric values to sex names from V240 column\n",
        "\n",
        "transformed_df['V240'] = transformed_df['V240'].map(sex)\n",
        "\n",
        "dummy_df_6 = pd.get_dummies(transformed_df['V240'], drop_first=True)"
      ],
      "metadata": {
        "id": "1zq79NQ336cP"
      },
      "execution_count": null,
      "outputs": []
    },
    {
      "cell_type": "code",
      "source": [
        "# Replacing numerical values in the V241 (Year of birth) column to strings\n",
        "\n",
        "transformed_df['V241'] = transformed_df['V241'].apply(generation)\n",
        "\n",
        "# Dropping the prewar dummy variable.\n",
        "category_to_drop_3 = 'prewar'\n",
        "\n",
        "# Create dummy variables without dropping the first category\n",
        "dummy_df_7 = pd.get_dummies(transformed_df['V241'], prefix='V241', drop_first=False)\n",
        "\n",
        "# Drop the specified category\n",
        "if f'V241_{category_to_drop_3}' in dummy_df_7.columns:\n",
        "    dummy_df_7.drop(f'V241_{category_to_drop_3}', axis=1, inplace=True)"
      ],
      "metadata": {
        "id": "LZ3HAQLR36cP"
      },
      "execution_count": null,
      "outputs": []
    },
    {
      "cell_type": "code",
      "source": [
        "# Parsing educational level numeric values from V248 column to actual names\n",
        "\n",
        "educational_level = {\n",
        "    1: 'no_university_education',2: 'no_university_education',\n",
        "    3: 'no_university_education',4: 'no_university_education',\n",
        "    5: 'no_university_education',6: 'no_university_education',\n",
        "    7: 'no_university_education',8: 'university_education',\n",
        "    9: 'university_education'\n",
        "}\n",
        "\n",
        "# Mapping educational level numeric values to educational level names from V248 column\n",
        "\n",
        "transformed_df['V248'] = transformed_df['V248'].map(educational_level)\n",
        "\n",
        "dummy_df_8 = pd.get_dummies(transformed_df['V248'], drop_first=True)"
      ],
      "metadata": {
        "id": "O_D50jMw36cP"
      },
      "execution_count": null,
      "outputs": []
    },
    {
      "cell_type": "code",
      "source": [
        "# Parsing size of town numeric values from V253 column to actual names\n",
        "\n",
        "town_size = {\n",
        "    1:'rural', 2:'rural', 3:'rural',\n",
        "    4:'rural', 5:'urban', 6:'urban',\n",
        "    7:'urban', 8:'urban'\n",
        "}\n",
        "\n",
        "# Mapping size of town numeric values to size of town names from V253 column\n",
        "\n",
        "transformed_df['V253'] = transformed_df['V253'].map(town_size)\n",
        "\n",
        "dummy_df_9 = pd.get_dummies(transformed_df['V253'], drop_first=True)"
      ],
      "metadata": {
        "id": "BphpnkCgDnoH"
      },
      "execution_count": null,
      "outputs": []
    },
    {
      "cell_type": "code",
      "source": [
        "# Replacing numerical values in the V241 (Year of birth) column to strings\n",
        "\n",
        "occupation = {\n",
        "    1:'manager', 2:'manager', 3:'routine_non_manual',\n",
        "    4:'routine_non_manual', 5:'routine_non_manual', 6:'manager',\n",
        "    7:'skilled_manual', 8:'manual', 9:'manual', 10:'petty_bourgeoisie',\n",
        "    11:'manual', 12:'routine_non_manual', 13: 'manual'\n",
        "}\n",
        "\n",
        "# Mapping size of town numeric values to size of town names from V253 column\n",
        "\n",
        "transformed_df['V265'] = transformed_df['V265'].map(occupation)\n",
        "\n",
        "# Dropping the prewar dummy variable.\n",
        "category_to_drop_4 = 'manual'\n",
        "\n",
        "# Create dummy variables without dropping the first category\n",
        "dummy_df_10 = pd.get_dummies(transformed_df['V265'], prefix='V265', drop_first=False)\n",
        "\n",
        "# Drop the specified category\n",
        "if f'V265_{category_to_drop_4}' in dummy_df_10.columns:\n",
        "    dummy_df_10.drop(f'V265_{category_to_drop_4}', axis=1, inplace=True)"
      ],
      "metadata": {
        "id": "bEDIKue4Kj6M"
      },
      "execution_count": null,
      "outputs": []
    },
    {
      "cell_type": "code",
      "source": [
        "# List of demographic dummy variables DataFrames\n",
        "demo_df = [dummy_df_1, dummy_df_2, dummy_df_3, dummy_df_4, dummy_df_5,\n",
        "           dummy_df_6, dummy_df_7, dummy_df_8, dummy_df_9, dummy_df_10]\n",
        "\n",
        "# Concatenate all dummy DataFrames along the columns (axis=1)\n",
        "merged_demo_df = pd.concat(demo_df, axis=1)\n",
        "\n",
        "# Concatenate the merged dummy DataFrame with the original DataFrame\n",
        "combined_df_demo = pd.concat([transformed_df, merged_demo_df], axis=1)"
      ],
      "metadata": {
        "id": "fjltJ29n36cP"
      },
      "execution_count": null,
      "outputs": []
    },
    {
      "cell_type": "markdown",
      "source": [
        "# First trial: Standarizing values from each question (except demographic scales) + performing the Logist Regression. Acurracy = 25%\n"
      ],
      "metadata": {
        "id": "jvsfS3RPE7Pb"
      }
    },
    {
      "cell_type": "code",
      "source": [
        "# Create a new DataFrame without the _demo columns\n",
        "new_df_without_demo = transformed_df.drop(_demo, axis=1)"
      ],
      "metadata": {
        "id": "ggPgJrDEk4KA"
      },
      "execution_count": null,
      "outputs": []
    },
    {
      "cell_type": "code",
      "source": [
        "scaler = StandardScaler()"
      ],
      "metadata": {
        "id": "5HCLq9mT9wh8"
      },
      "execution_count": null,
      "outputs": []
    },
    {
      "cell_type": "code",
      "source": [
        "scaler.fit(new_df_without_demo.drop(['country','prr_vote'],axis=1))"
      ],
      "metadata": {
        "colab": {
          "base_uri": "https://localhost:8080/"
        },
        "id": "IeaQniYz90vK",
        "outputId": "9d4545df-d8f7-4940-cc36-fd3fce86988a"
      },
      "execution_count": null,
      "outputs": [
        {
          "output_type": "execute_result",
          "data": {
            "text/plain": [
              "StandardScaler()"
            ],
            "text/html": [
              "<style>#sk-container-id-6 {color: black;background-color: white;}#sk-container-id-6 pre{padding: 0;}#sk-container-id-6 div.sk-toggleable {background-color: white;}#sk-container-id-6 label.sk-toggleable__label {cursor: pointer;display: block;width: 100%;margin-bottom: 0;padding: 0.3em;box-sizing: border-box;text-align: center;}#sk-container-id-6 label.sk-toggleable__label-arrow:before {content: \"▸\";float: left;margin-right: 0.25em;color: #696969;}#sk-container-id-6 label.sk-toggleable__label-arrow:hover:before {color: black;}#sk-container-id-6 div.sk-estimator:hover label.sk-toggleable__label-arrow:before {color: black;}#sk-container-id-6 div.sk-toggleable__content {max-height: 0;max-width: 0;overflow: hidden;text-align: left;background-color: #f0f8ff;}#sk-container-id-6 div.sk-toggleable__content pre {margin: 0.2em;color: black;border-radius: 0.25em;background-color: #f0f8ff;}#sk-container-id-6 input.sk-toggleable__control:checked~div.sk-toggleable__content {max-height: 200px;max-width: 100%;overflow: auto;}#sk-container-id-6 input.sk-toggleable__control:checked~label.sk-toggleable__label-arrow:before {content: \"▾\";}#sk-container-id-6 div.sk-estimator input.sk-toggleable__control:checked~label.sk-toggleable__label {background-color: #d4ebff;}#sk-container-id-6 div.sk-label input.sk-toggleable__control:checked~label.sk-toggleable__label {background-color: #d4ebff;}#sk-container-id-6 input.sk-hidden--visually {border: 0;clip: rect(1px 1px 1px 1px);clip: rect(1px, 1px, 1px, 1px);height: 1px;margin: -1px;overflow: hidden;padding: 0;position: absolute;width: 1px;}#sk-container-id-6 div.sk-estimator {font-family: monospace;background-color: #f0f8ff;border: 1px dotted black;border-radius: 0.25em;box-sizing: border-box;margin-bottom: 0.5em;}#sk-container-id-6 div.sk-estimator:hover {background-color: #d4ebff;}#sk-container-id-6 div.sk-parallel-item::after {content: \"\";width: 100%;border-bottom: 1px solid gray;flex-grow: 1;}#sk-container-id-6 div.sk-label:hover label.sk-toggleable__label {background-color: #d4ebff;}#sk-container-id-6 div.sk-serial::before {content: \"\";position: absolute;border-left: 1px solid gray;box-sizing: border-box;top: 0;bottom: 0;left: 50%;z-index: 0;}#sk-container-id-6 div.sk-serial {display: flex;flex-direction: column;align-items: center;background-color: white;padding-right: 0.2em;padding-left: 0.2em;position: relative;}#sk-container-id-6 div.sk-item {position: relative;z-index: 1;}#sk-container-id-6 div.sk-parallel {display: flex;align-items: stretch;justify-content: center;background-color: white;position: relative;}#sk-container-id-6 div.sk-item::before, #sk-container-id-6 div.sk-parallel-item::before {content: \"\";position: absolute;border-left: 1px solid gray;box-sizing: border-box;top: 0;bottom: 0;left: 50%;z-index: -1;}#sk-container-id-6 div.sk-parallel-item {display: flex;flex-direction: column;z-index: 1;position: relative;background-color: white;}#sk-container-id-6 div.sk-parallel-item:first-child::after {align-self: flex-end;width: 50%;}#sk-container-id-6 div.sk-parallel-item:last-child::after {align-self: flex-start;width: 50%;}#sk-container-id-6 div.sk-parallel-item:only-child::after {width: 0;}#sk-container-id-6 div.sk-dashed-wrapped {border: 1px dashed gray;margin: 0 0.4em 0.5em 0.4em;box-sizing: border-box;padding-bottom: 0.4em;background-color: white;}#sk-container-id-6 div.sk-label label {font-family: monospace;font-weight: bold;display: inline-block;line-height: 1.2em;}#sk-container-id-6 div.sk-label-container {text-align: center;}#sk-container-id-6 div.sk-container {/* jupyter's `normalize.less` sets `[hidden] { display: none; }` but bootstrap.min.css set `[hidden] { display: none !important; }` so we also need the `!important` here to be able to override the default hidden behavior on the sphinx rendered scikit-learn.org. See: https://github.com/scikit-learn/scikit-learn/issues/21755 */display: inline-block !important;position: relative;}#sk-container-id-6 div.sk-text-repr-fallback {display: none;}</style><div id=\"sk-container-id-6\" class=\"sk-top-container\"><div class=\"sk-text-repr-fallback\"><pre>StandardScaler()</pre><b>In a Jupyter environment, please rerun this cell to show the HTML representation or trust the notebook. <br />On GitHub, the HTML representation is unable to render, please try loading this page with nbviewer.org.</b></div><div class=\"sk-container\" hidden><div class=\"sk-item\"><div class=\"sk-estimator sk-toggleable\"><input class=\"sk-toggleable__control sk-hidden--visually\" id=\"sk-estimator-id-6\" type=\"checkbox\" checked><label for=\"sk-estimator-id-6\" class=\"sk-toggleable__label sk-toggleable__label-arrow\">StandardScaler</label><div class=\"sk-toggleable__content\"><pre>StandardScaler()</pre></div></div></div></div></div>"
            ]
          },
          "metadata": {},
          "execution_count": 137
        }
      ]
    },
    {
      "cell_type": "code",
      "source": [
        "scaled_features = scaler.transform(new_df_without_demo.drop(['country','prr_vote'],axis=1))"
      ],
      "metadata": {
        "id": "F3rJUg_y90ow"
      },
      "execution_count": null,
      "outputs": []
    },
    {
      "cell_type": "code",
      "source": [
        "df_feat = pd.DataFrame(scaled_features,columns=new_df_without_demo.columns[1:-1])\n",
        "df_feat.reset_index(drop=True)"
      ],
      "metadata": {
        "colab": {
          "base_uri": "https://localhost:8080/"
        },
        "id": "anO-1q6x-Hta",
        "outputId": "041a208b-10db-4ece-cd74-bd02ae254167"
      },
      "execution_count": null,
      "outputs": [
        {
          "output_type": "execute_result",
          "data": {
            "text/plain": [
              "         V21_t     V66_t     V69_t    V127_t    V128_t    V135_t    V138_t  \\\n",
              "0     1.409588  0.702662 -0.829699  0.318144  0.643629  1.505534  1.280520   \n",
              "1     1.409588  0.702662 -0.829699  0.318144 -0.490327  1.155846  0.595233   \n",
              "2     1.409588 -1.423160 -0.829699 -0.643675  0.643629 -0.592593  0.595233   \n",
              "3     1.409588  0.702662 -0.829699  0.318144 -0.490327 -0.242905  0.595233   \n",
              "4     1.409588  0.702662 -0.829699  0.318144 -0.490327  0.456470  1.623164   \n",
              "...        ...       ...       ...       ...       ...       ...       ...   \n",
              "8457  1.409588 -1.423160 -0.829699 -0.643675  0.643629 -0.242905 -1.117985   \n",
              "8458  1.409588 -1.423160  0.601097 -1.605494  0.643629 -0.592593 -0.432698   \n",
              "8459  1.409588 -1.423160  0.601097 -1.605494 -0.490327  1.155846  0.937877   \n",
              "8460 -0.709427  0.702662  0.601097 -1.605494 -1.624282 -0.242905  0.252589   \n",
              "8461 -0.709427 -1.423160  0.601097 -1.605494 -0.490327  2.204909  0.937877   \n",
              "\n",
              "         V37_t     V39_t     V41_t  ...    V114_t    V115_t    V116_t  \\\n",
              "0     2.318791 -0.537729  2.366564  ...  1.772103 -0.732668  0.121871   \n",
              "1    -0.431259 -0.537729 -0.422554  ... -0.526768 -0.732668 -1.205373   \n",
              "2     2.318791 -0.537729  2.366564  ...  0.622667  1.661091  0.121871   \n",
              "3    -0.431259  1.859671 -0.422554  ...  0.622667 -0.732668  0.121871   \n",
              "4     2.318791 -0.537729  2.366564  ... -0.526768 -1.929547 -2.532617   \n",
              "...        ...       ...       ...  ...       ...       ...       ...   \n",
              "8457 -0.431259 -0.537729 -0.422554  ...  0.622667  0.464212  0.121871   \n",
              "8458 -0.431259  1.859671 -0.422554  ...  1.772103  1.661091  1.449114   \n",
              "8459  2.318791  1.859671  2.366564  ... -0.526768 -0.732668  0.121871   \n",
              "8460 -0.431259 -0.537729 -0.422554  ... -1.676203 -1.929547 -2.532617   \n",
              "8461 -0.431259 -0.537729  2.366564  ...  0.622667 -1.929547 -1.205373   \n",
              "\n",
              "        V117_t    V119_t    V120_t    V121_t    V126_t       V95    V191_t  \n",
              "0     0.343209  1.221615  0.549702  1.688065 -0.595634  1.498367  0.814611  \n",
              "1    -0.898978 -0.145573 -0.798191 -0.670265 -0.595634 -0.237378 -1.984106  \n",
              "2     0.343209  2.588803  0.549702  0.508900  1.803344  1.064431 -0.118294  \n",
              "3    -0.898978  2.588803  0.549702 -0.670265 -0.595634  1.064431 -1.051200  \n",
              "4    -0.898978 -0.145573  0.549702  0.508900 -0.595634  1.932303 -1.051200  \n",
              "...        ...       ...       ...       ...       ...       ...       ...  \n",
              "8457  0.343209  1.221615  0.549702  0.508900  0.603855  0.630495 -1.984106  \n",
              "8458  1.585395  2.588803  1.897595  1.688065  1.803344  0.196558 -1.984106  \n",
              "8459  0.343209 -0.145573 -0.798191 -0.670265 -1.795122 -0.237378 -1.984106  \n",
              "8460 -0.898978 -0.145573 -0.798191 -0.670265 -1.795122 -0.237378 -1.984106  \n",
              "8461  0.343209 -1.512760 -2.146083 -1.849431 -1.795122 -0.237378 -0.118294  \n",
              "\n",
              "[8462 rows x 38 columns]"
            ],
            "text/html": [
              "\n",
              "  <div id=\"df-4d7610a4-72fe-4aea-9cf7-e4148fea15d1\" class=\"colab-df-container\">\n",
              "    <div>\n",
              "<style scoped>\n",
              "    .dataframe tbody tr th:only-of-type {\n",
              "        vertical-align: middle;\n",
              "    }\n",
              "\n",
              "    .dataframe tbody tr th {\n",
              "        vertical-align: top;\n",
              "    }\n",
              "\n",
              "    .dataframe thead th {\n",
              "        text-align: right;\n",
              "    }\n",
              "</style>\n",
              "<table border=\"1\" class=\"dataframe\">\n",
              "  <thead>\n",
              "    <tr style=\"text-align: right;\">\n",
              "      <th></th>\n",
              "      <th>V21_t</th>\n",
              "      <th>V66_t</th>\n",
              "      <th>V69_t</th>\n",
              "      <th>V127_t</th>\n",
              "      <th>V128_t</th>\n",
              "      <th>V135_t</th>\n",
              "      <th>V138_t</th>\n",
              "      <th>V37_t</th>\n",
              "      <th>V39_t</th>\n",
              "      <th>V41_t</th>\n",
              "      <th>...</th>\n",
              "      <th>V114_t</th>\n",
              "      <th>V115_t</th>\n",
              "      <th>V116_t</th>\n",
              "      <th>V117_t</th>\n",
              "      <th>V119_t</th>\n",
              "      <th>V120_t</th>\n",
              "      <th>V121_t</th>\n",
              "      <th>V126_t</th>\n",
              "      <th>V95</th>\n",
              "      <th>V191_t</th>\n",
              "    </tr>\n",
              "  </thead>\n",
              "  <tbody>\n",
              "    <tr>\n",
              "      <th>0</th>\n",
              "      <td>1.409588</td>\n",
              "      <td>0.702662</td>\n",
              "      <td>-0.829699</td>\n",
              "      <td>0.318144</td>\n",
              "      <td>0.643629</td>\n",
              "      <td>1.505534</td>\n",
              "      <td>1.280520</td>\n",
              "      <td>2.318791</td>\n",
              "      <td>-0.537729</td>\n",
              "      <td>2.366564</td>\n",
              "      <td>...</td>\n",
              "      <td>1.772103</td>\n",
              "      <td>-0.732668</td>\n",
              "      <td>0.121871</td>\n",
              "      <td>0.343209</td>\n",
              "      <td>1.221615</td>\n",
              "      <td>0.549702</td>\n",
              "      <td>1.688065</td>\n",
              "      <td>-0.595634</td>\n",
              "      <td>1.498367</td>\n",
              "      <td>0.814611</td>\n",
              "    </tr>\n",
              "    <tr>\n",
              "      <th>1</th>\n",
              "      <td>1.409588</td>\n",
              "      <td>0.702662</td>\n",
              "      <td>-0.829699</td>\n",
              "      <td>0.318144</td>\n",
              "      <td>-0.490327</td>\n",
              "      <td>1.155846</td>\n",
              "      <td>0.595233</td>\n",
              "      <td>-0.431259</td>\n",
              "      <td>-0.537729</td>\n",
              "      <td>-0.422554</td>\n",
              "      <td>...</td>\n",
              "      <td>-0.526768</td>\n",
              "      <td>-0.732668</td>\n",
              "      <td>-1.205373</td>\n",
              "      <td>-0.898978</td>\n",
              "      <td>-0.145573</td>\n",
              "      <td>-0.798191</td>\n",
              "      <td>-0.670265</td>\n",
              "      <td>-0.595634</td>\n",
              "      <td>-0.237378</td>\n",
              "      <td>-1.984106</td>\n",
              "    </tr>\n",
              "    <tr>\n",
              "      <th>2</th>\n",
              "      <td>1.409588</td>\n",
              "      <td>-1.423160</td>\n",
              "      <td>-0.829699</td>\n",
              "      <td>-0.643675</td>\n",
              "      <td>0.643629</td>\n",
              "      <td>-0.592593</td>\n",
              "      <td>0.595233</td>\n",
              "      <td>2.318791</td>\n",
              "      <td>-0.537729</td>\n",
              "      <td>2.366564</td>\n",
              "      <td>...</td>\n",
              "      <td>0.622667</td>\n",
              "      <td>1.661091</td>\n",
              "      <td>0.121871</td>\n",
              "      <td>0.343209</td>\n",
              "      <td>2.588803</td>\n",
              "      <td>0.549702</td>\n",
              "      <td>0.508900</td>\n",
              "      <td>1.803344</td>\n",
              "      <td>1.064431</td>\n",
              "      <td>-0.118294</td>\n",
              "    </tr>\n",
              "    <tr>\n",
              "      <th>3</th>\n",
              "      <td>1.409588</td>\n",
              "      <td>0.702662</td>\n",
              "      <td>-0.829699</td>\n",
              "      <td>0.318144</td>\n",
              "      <td>-0.490327</td>\n",
              "      <td>-0.242905</td>\n",
              "      <td>0.595233</td>\n",
              "      <td>-0.431259</td>\n",
              "      <td>1.859671</td>\n",
              "      <td>-0.422554</td>\n",
              "      <td>...</td>\n",
              "      <td>0.622667</td>\n",
              "      <td>-0.732668</td>\n",
              "      <td>0.121871</td>\n",
              "      <td>-0.898978</td>\n",
              "      <td>2.588803</td>\n",
              "      <td>0.549702</td>\n",
              "      <td>-0.670265</td>\n",
              "      <td>-0.595634</td>\n",
              "      <td>1.064431</td>\n",
              "      <td>-1.051200</td>\n",
              "    </tr>\n",
              "    <tr>\n",
              "      <th>4</th>\n",
              "      <td>1.409588</td>\n",
              "      <td>0.702662</td>\n",
              "      <td>-0.829699</td>\n",
              "      <td>0.318144</td>\n",
              "      <td>-0.490327</td>\n",
              "      <td>0.456470</td>\n",
              "      <td>1.623164</td>\n",
              "      <td>2.318791</td>\n",
              "      <td>-0.537729</td>\n",
              "      <td>2.366564</td>\n",
              "      <td>...</td>\n",
              "      <td>-0.526768</td>\n",
              "      <td>-1.929547</td>\n",
              "      <td>-2.532617</td>\n",
              "      <td>-0.898978</td>\n",
              "      <td>-0.145573</td>\n",
              "      <td>0.549702</td>\n",
              "      <td>0.508900</td>\n",
              "      <td>-0.595634</td>\n",
              "      <td>1.932303</td>\n",
              "      <td>-1.051200</td>\n",
              "    </tr>\n",
              "    <tr>\n",
              "      <th>...</th>\n",
              "      <td>...</td>\n",
              "      <td>...</td>\n",
              "      <td>...</td>\n",
              "      <td>...</td>\n",
              "      <td>...</td>\n",
              "      <td>...</td>\n",
              "      <td>...</td>\n",
              "      <td>...</td>\n",
              "      <td>...</td>\n",
              "      <td>...</td>\n",
              "      <td>...</td>\n",
              "      <td>...</td>\n",
              "      <td>...</td>\n",
              "      <td>...</td>\n",
              "      <td>...</td>\n",
              "      <td>...</td>\n",
              "      <td>...</td>\n",
              "      <td>...</td>\n",
              "      <td>...</td>\n",
              "      <td>...</td>\n",
              "      <td>...</td>\n",
              "    </tr>\n",
              "    <tr>\n",
              "      <th>8457</th>\n",
              "      <td>1.409588</td>\n",
              "      <td>-1.423160</td>\n",
              "      <td>-0.829699</td>\n",
              "      <td>-0.643675</td>\n",
              "      <td>0.643629</td>\n",
              "      <td>-0.242905</td>\n",
              "      <td>-1.117985</td>\n",
              "      <td>-0.431259</td>\n",
              "      <td>-0.537729</td>\n",
              "      <td>-0.422554</td>\n",
              "      <td>...</td>\n",
              "      <td>0.622667</td>\n",
              "      <td>0.464212</td>\n",
              "      <td>0.121871</td>\n",
              "      <td>0.343209</td>\n",
              "      <td>1.221615</td>\n",
              "      <td>0.549702</td>\n",
              "      <td>0.508900</td>\n",
              "      <td>0.603855</td>\n",
              "      <td>0.630495</td>\n",
              "      <td>-1.984106</td>\n",
              "    </tr>\n",
              "    <tr>\n",
              "      <th>8458</th>\n",
              "      <td>1.409588</td>\n",
              "      <td>-1.423160</td>\n",
              "      <td>0.601097</td>\n",
              "      <td>-1.605494</td>\n",
              "      <td>0.643629</td>\n",
              "      <td>-0.592593</td>\n",
              "      <td>-0.432698</td>\n",
              "      <td>-0.431259</td>\n",
              "      <td>1.859671</td>\n",
              "      <td>-0.422554</td>\n",
              "      <td>...</td>\n",
              "      <td>1.772103</td>\n",
              "      <td>1.661091</td>\n",
              "      <td>1.449114</td>\n",
              "      <td>1.585395</td>\n",
              "      <td>2.588803</td>\n",
              "      <td>1.897595</td>\n",
              "      <td>1.688065</td>\n",
              "      <td>1.803344</td>\n",
              "      <td>0.196558</td>\n",
              "      <td>-1.984106</td>\n",
              "    </tr>\n",
              "    <tr>\n",
              "      <th>8459</th>\n",
              "      <td>1.409588</td>\n",
              "      <td>-1.423160</td>\n",
              "      <td>0.601097</td>\n",
              "      <td>-1.605494</td>\n",
              "      <td>-0.490327</td>\n",
              "      <td>1.155846</td>\n",
              "      <td>0.937877</td>\n",
              "      <td>2.318791</td>\n",
              "      <td>1.859671</td>\n",
              "      <td>2.366564</td>\n",
              "      <td>...</td>\n",
              "      <td>-0.526768</td>\n",
              "      <td>-0.732668</td>\n",
              "      <td>0.121871</td>\n",
              "      <td>0.343209</td>\n",
              "      <td>-0.145573</td>\n",
              "      <td>-0.798191</td>\n",
              "      <td>-0.670265</td>\n",
              "      <td>-1.795122</td>\n",
              "      <td>-0.237378</td>\n",
              "      <td>-1.984106</td>\n",
              "    </tr>\n",
              "    <tr>\n",
              "      <th>8460</th>\n",
              "      <td>-0.709427</td>\n",
              "      <td>0.702662</td>\n",
              "      <td>0.601097</td>\n",
              "      <td>-1.605494</td>\n",
              "      <td>-1.624282</td>\n",
              "      <td>-0.242905</td>\n",
              "      <td>0.252589</td>\n",
              "      <td>-0.431259</td>\n",
              "      <td>-0.537729</td>\n",
              "      <td>-0.422554</td>\n",
              "      <td>...</td>\n",
              "      <td>-1.676203</td>\n",
              "      <td>-1.929547</td>\n",
              "      <td>-2.532617</td>\n",
              "      <td>-0.898978</td>\n",
              "      <td>-0.145573</td>\n",
              "      <td>-0.798191</td>\n",
              "      <td>-0.670265</td>\n",
              "      <td>-1.795122</td>\n",
              "      <td>-0.237378</td>\n",
              "      <td>-1.984106</td>\n",
              "    </tr>\n",
              "    <tr>\n",
              "      <th>8461</th>\n",
              "      <td>-0.709427</td>\n",
              "      <td>-1.423160</td>\n",
              "      <td>0.601097</td>\n",
              "      <td>-1.605494</td>\n",
              "      <td>-0.490327</td>\n",
              "      <td>2.204909</td>\n",
              "      <td>0.937877</td>\n",
              "      <td>-0.431259</td>\n",
              "      <td>-0.537729</td>\n",
              "      <td>2.366564</td>\n",
              "      <td>...</td>\n",
              "      <td>0.622667</td>\n",
              "      <td>-1.929547</td>\n",
              "      <td>-1.205373</td>\n",
              "      <td>0.343209</td>\n",
              "      <td>-1.512760</td>\n",
              "      <td>-2.146083</td>\n",
              "      <td>-1.849431</td>\n",
              "      <td>-1.795122</td>\n",
              "      <td>-0.237378</td>\n",
              "      <td>-0.118294</td>\n",
              "    </tr>\n",
              "  </tbody>\n",
              "</table>\n",
              "<p>8462 rows × 38 columns</p>\n",
              "</div>\n",
              "    <div class=\"colab-df-buttons\">\n",
              "\n",
              "  <div class=\"colab-df-container\">\n",
              "    <button class=\"colab-df-convert\" onclick=\"convertToInteractive('df-4d7610a4-72fe-4aea-9cf7-e4148fea15d1')\"\n",
              "            title=\"Convert this dataframe to an interactive table.\"\n",
              "            style=\"display:none;\">\n",
              "\n",
              "  <svg xmlns=\"http://www.w3.org/2000/svg\" height=\"24px\" viewBox=\"0 -960 960 960\">\n",
              "    <path d=\"M120-120v-720h720v720H120Zm60-500h600v-160H180v160Zm220 220h160v-160H400v160Zm0 220h160v-160H400v160ZM180-400h160v-160H180v160Zm440 0h160v-160H620v160ZM180-180h160v-160H180v160Zm440 0h160v-160H620v160Z\"/>\n",
              "  </svg>\n",
              "    </button>\n",
              "\n",
              "  <style>\n",
              "    .colab-df-container {\n",
              "      display:flex;\n",
              "      gap: 12px;\n",
              "    }\n",
              "\n",
              "    .colab-df-convert {\n",
              "      background-color: #E8F0FE;\n",
              "      border: none;\n",
              "      border-radius: 50%;\n",
              "      cursor: pointer;\n",
              "      display: none;\n",
              "      fill: #1967D2;\n",
              "      height: 32px;\n",
              "      padding: 0 0 0 0;\n",
              "      width: 32px;\n",
              "    }\n",
              "\n",
              "    .colab-df-convert:hover {\n",
              "      background-color: #E2EBFA;\n",
              "      box-shadow: 0px 1px 2px rgba(60, 64, 67, 0.3), 0px 1px 3px 1px rgba(60, 64, 67, 0.15);\n",
              "      fill: #174EA6;\n",
              "    }\n",
              "\n",
              "    .colab-df-buttons div {\n",
              "      margin-bottom: 4px;\n",
              "    }\n",
              "\n",
              "    [theme=dark] .colab-df-convert {\n",
              "      background-color: #3B4455;\n",
              "      fill: #D2E3FC;\n",
              "    }\n",
              "\n",
              "    [theme=dark] .colab-df-convert:hover {\n",
              "      background-color: #434B5C;\n",
              "      box-shadow: 0px 1px 3px 1px rgba(0, 0, 0, 0.15);\n",
              "      filter: drop-shadow(0px 1px 2px rgba(0, 0, 0, 0.3));\n",
              "      fill: #FFFFFF;\n",
              "    }\n",
              "  </style>\n",
              "\n",
              "    <script>\n",
              "      const buttonEl =\n",
              "        document.querySelector('#df-4d7610a4-72fe-4aea-9cf7-e4148fea15d1 button.colab-df-convert');\n",
              "      buttonEl.style.display =\n",
              "        google.colab.kernel.accessAllowed ? 'block' : 'none';\n",
              "\n",
              "      async function convertToInteractive(key) {\n",
              "        const element = document.querySelector('#df-4d7610a4-72fe-4aea-9cf7-e4148fea15d1');\n",
              "        const dataTable =\n",
              "          await google.colab.kernel.invokeFunction('convertToInteractive',\n",
              "                                                    [key], {});\n",
              "        if (!dataTable) return;\n",
              "\n",
              "        const docLinkHtml = 'Like what you see? Visit the ' +\n",
              "          '<a target=\"_blank\" href=https://colab.research.google.com/notebooks/data_table.ipynb>data table notebook</a>'\n",
              "          + ' to learn more about interactive tables.';\n",
              "        element.innerHTML = '';\n",
              "        dataTable['output_type'] = 'display_data';\n",
              "        await google.colab.output.renderOutput(dataTable, element);\n",
              "        const docLink = document.createElement('div');\n",
              "        docLink.innerHTML = docLinkHtml;\n",
              "        element.appendChild(docLink);\n",
              "      }\n",
              "    </script>\n",
              "  </div>\n",
              "\n",
              "\n",
              "<div id=\"df-f1d5eb52-0622-4f69-90ea-53a8406f09c5\">\n",
              "  <button class=\"colab-df-quickchart\" onclick=\"quickchart('df-f1d5eb52-0622-4f69-90ea-53a8406f09c5')\"\n",
              "            title=\"Suggest charts\"\n",
              "            style=\"display:none;\">\n",
              "\n",
              "<svg xmlns=\"http://www.w3.org/2000/svg\" height=\"24px\"viewBox=\"0 0 24 24\"\n",
              "     width=\"24px\">\n",
              "    <g>\n",
              "        <path d=\"M19 3H5c-1.1 0-2 .9-2 2v14c0 1.1.9 2 2 2h14c1.1 0 2-.9 2-2V5c0-1.1-.9-2-2-2zM9 17H7v-7h2v7zm4 0h-2V7h2v10zm4 0h-2v-4h2v4z\"/>\n",
              "    </g>\n",
              "</svg>\n",
              "  </button>\n",
              "\n",
              "<style>\n",
              "  .colab-df-quickchart {\n",
              "      --bg-color: #E8F0FE;\n",
              "      --fill-color: #1967D2;\n",
              "      --hover-bg-color: #E2EBFA;\n",
              "      --hover-fill-color: #174EA6;\n",
              "      --disabled-fill-color: #AAA;\n",
              "      --disabled-bg-color: #DDD;\n",
              "  }\n",
              "\n",
              "  [theme=dark] .colab-df-quickchart {\n",
              "      --bg-color: #3B4455;\n",
              "      --fill-color: #D2E3FC;\n",
              "      --hover-bg-color: #434B5C;\n",
              "      --hover-fill-color: #FFFFFF;\n",
              "      --disabled-bg-color: #3B4455;\n",
              "      --disabled-fill-color: #666;\n",
              "  }\n",
              "\n",
              "  .colab-df-quickchart {\n",
              "    background-color: var(--bg-color);\n",
              "    border: none;\n",
              "    border-radius: 50%;\n",
              "    cursor: pointer;\n",
              "    display: none;\n",
              "    fill: var(--fill-color);\n",
              "    height: 32px;\n",
              "    padding: 0;\n",
              "    width: 32px;\n",
              "  }\n",
              "\n",
              "  .colab-df-quickchart:hover {\n",
              "    background-color: var(--hover-bg-color);\n",
              "    box-shadow: 0 1px 2px rgba(60, 64, 67, 0.3), 0 1px 3px 1px rgba(60, 64, 67, 0.15);\n",
              "    fill: var(--button-hover-fill-color);\n",
              "  }\n",
              "\n",
              "  .colab-df-quickchart-complete:disabled,\n",
              "  .colab-df-quickchart-complete:disabled:hover {\n",
              "    background-color: var(--disabled-bg-color);\n",
              "    fill: var(--disabled-fill-color);\n",
              "    box-shadow: none;\n",
              "  }\n",
              "\n",
              "  .colab-df-spinner {\n",
              "    border: 2px solid var(--fill-color);\n",
              "    border-color: transparent;\n",
              "    border-bottom-color: var(--fill-color);\n",
              "    animation:\n",
              "      spin 1s steps(1) infinite;\n",
              "  }\n",
              "\n",
              "  @keyframes spin {\n",
              "    0% {\n",
              "      border-color: transparent;\n",
              "      border-bottom-color: var(--fill-color);\n",
              "      border-left-color: var(--fill-color);\n",
              "    }\n",
              "    20% {\n",
              "      border-color: transparent;\n",
              "      border-left-color: var(--fill-color);\n",
              "      border-top-color: var(--fill-color);\n",
              "    }\n",
              "    30% {\n",
              "      border-color: transparent;\n",
              "      border-left-color: var(--fill-color);\n",
              "      border-top-color: var(--fill-color);\n",
              "      border-right-color: var(--fill-color);\n",
              "    }\n",
              "    40% {\n",
              "      border-color: transparent;\n",
              "      border-right-color: var(--fill-color);\n",
              "      border-top-color: var(--fill-color);\n",
              "    }\n",
              "    60% {\n",
              "      border-color: transparent;\n",
              "      border-right-color: var(--fill-color);\n",
              "    }\n",
              "    80% {\n",
              "      border-color: transparent;\n",
              "      border-right-color: var(--fill-color);\n",
              "      border-bottom-color: var(--fill-color);\n",
              "    }\n",
              "    90% {\n",
              "      border-color: transparent;\n",
              "      border-bottom-color: var(--fill-color);\n",
              "    }\n",
              "  }\n",
              "</style>\n",
              "\n",
              "  <script>\n",
              "    async function quickchart(key) {\n",
              "      const quickchartButtonEl =\n",
              "        document.querySelector('#' + key + ' button');\n",
              "      quickchartButtonEl.disabled = true;  // To prevent multiple clicks.\n",
              "      quickchartButtonEl.classList.add('colab-df-spinner');\n",
              "      try {\n",
              "        const charts = await google.colab.kernel.invokeFunction(\n",
              "            'suggestCharts', [key], {});\n",
              "      } catch (error) {\n",
              "        console.error('Error during call to suggestCharts:', error);\n",
              "      }\n",
              "      quickchartButtonEl.classList.remove('colab-df-spinner');\n",
              "      quickchartButtonEl.classList.add('colab-df-quickchart-complete');\n",
              "    }\n",
              "    (() => {\n",
              "      let quickchartButtonEl =\n",
              "        document.querySelector('#df-f1d5eb52-0622-4f69-90ea-53a8406f09c5 button');\n",
              "      quickchartButtonEl.style.display =\n",
              "        google.colab.kernel.accessAllowed ? 'block' : 'none';\n",
              "    })();\n",
              "  </script>\n",
              "</div>\n",
              "\n",
              "    </div>\n",
              "  </div>\n"
            ],
            "application/vnd.google.colaboratory.intrinsic+json": {
              "type": "dataframe"
            }
          },
          "metadata": {},
          "execution_count": 139
        }
      ]
    },
    {
      "cell_type": "code",
      "source": [
        "'''\n",
        "# List of columns with reverse-coded responses\n",
        "reverse_coded_columns = ['V95', 'V128_t', 'V135_t', 'V138_t','V106_t','V107_t','V212_t','V48_t', 'V98_t', 'V109_t', 'V110_t','V113_t', 'V114_t', 'V115_t', 'V116_t','V117_t', 'V119_t', 'V120_t','V121_t', 'V126_t']\n",
        "\n",
        "# Invert the sign of values in reverse-coded columns\n",
        "df_feat[reverse_coded_columns] *= -1\n",
        "'''"
      ],
      "metadata": {
        "id": "zlpD3tktdGxY",
        "colab": {
          "base_uri": "https://localhost:8080/"
        },
        "outputId": "397d30c7-2d82-42dc-b54c-ce02b4928544"
      },
      "execution_count": null,
      "outputs": [
        {
          "output_type": "execute_result",
          "data": {
            "text/plain": [
              "\"\\n# List of columns with reverse-coded responses\\nreverse_coded_columns = ['V95', 'V128_t', 'V135_t', 'V138_t','V106_t','V107_t','V212_t','V48_t', 'V98_t', 'V109_t', 'V110_t','V113_t', 'V114_t', 'V115_t', 'V116_t','V117_t', 'V119_t', 'V120_t','V121_t', 'V126_t']\\n\\n# Invert the sign of values in reverse-coded columns\\ndf_feat[reverse_coded_columns] *= -1\\n\""
            ],
            "application/vnd.google.colaboratory.intrinsic+json": {
              "type": "string"
            }
          },
          "metadata": {},
          "execution_count": 140
        }
      ]
    },
    {
      "cell_type": "code",
      "source": [
        "sns.heatmap(df_feat.corr())\n",
        "plt.show()"
      ],
      "metadata": {
        "colab": {
          "base_uri": "https://localhost:8080/"
        },
        "id": "HZFAIAI7BvLw",
        "outputId": "5aaa150a-020e-465f-9821-1e7034d02e45"
      },
      "execution_count": null,
      "outputs": [
        {
          "output_type": "display_data",
          "data": {
            "text/plain": [
              "<Figure size 640x480 with 2 Axes>"
            ],
            "image/png": "[encoded data removed]"
          },
          "metadata": {}
        }
      ]
    },
    {
      "cell_type": "code",
      "source": [
        "X_1 = df_feat\n",
        "y_1 = new_df_without_demo['prr_vote']"
      ],
      "metadata": {
        "id": "P3cD8IiE_B-S"
      },
      "execution_count": null,
      "outputs": []
    },
    {
      "cell_type": "code",
      "source": [
        "X_train_1, X_test_1, y_train_1, y_test_1 = train_test_split(X_1, y_1, test_size=0.25, random_state=101, stratify=y_1)"
      ],
      "metadata": {
        "id": "1T0tAn2P-f7c"
      },
      "execution_count": null,
      "outputs": []
    },
    {
      "cell_type": "code",
      "source": [
        "undersampler_1 = RandomUnderSampler(random_state=101)\n",
        "X_train_resampled_1, y_train_resampled_1 = undersampler_1.fit_resample(X_train_1, y_train_1)"
      ],
      "metadata": {
        "id": "E_JGyPBE5PgB"
      },
      "execution_count": null,
      "outputs": []
    },
    {
      "cell_type": "code",
      "source": [
        "logmodel_1 = LogisticRegression()"
      ],
      "metadata": {
        "id": "01V4RnbK_WJO"
      },
      "execution_count": null,
      "outputs": []
    },
    {
      "cell_type": "code",
      "source": [
        "logmodel_1.fit(X_train_resampled_1,y_train_resampled_1)"
      ],
      "metadata": {
        "colab": {
          "base_uri": "https://localhost:8080/"
        },
        "id": "JV7jc3_D_cio",
        "outputId": "de8df83c-1f02-402b-c6a5-0479a561d332"
      },
      "execution_count": null,
      "outputs": [
        {
          "output_type": "execute_result",
          "data": {
            "text/plain": [
              "LogisticRegression()"
            ],
            "text/html": [
              "<style>#sk-container-id-7 {color: black;background-color: white;}#sk-container-id-7 pre{padding: 0;}#sk-container-id-7 div.sk-toggleable {background-color: white;}#sk-container-id-7 label.sk-toggleable__label {cursor: pointer;display: block;width: 100%;margin-bottom: 0;padding: 0.3em;box-sizing: border-box;text-align: center;}#sk-container-id-7 label.sk-toggleable__label-arrow:before {content: \"▸\";float: left;margin-right: 0.25em;color: #696969;}#sk-container-id-7 label.sk-toggleable__label-arrow:hover:before {color: black;}#sk-container-id-7 div.sk-estimator:hover label.sk-toggleable__label-arrow:before {color: black;}#sk-container-id-7 div.sk-toggleable__content {max-height: 0;max-width: 0;overflow: hidden;text-align: left;background-color: #f0f8ff;}#sk-container-id-7 div.sk-toggleable__content pre {margin: 0.2em;color: black;border-radius: 0.25em;background-color: #f0f8ff;}#sk-container-id-7 input.sk-toggleable__control:checked~div.sk-toggleable__content {max-height: 200px;max-width: 100%;overflow: auto;}#sk-container-id-7 input.sk-toggleable__control:checked~label.sk-toggleable__label-arrow:before {content: \"▾\";}#sk-container-id-7 div.sk-estimator input.sk-toggleable__control:checked~label.sk-toggleable__label {background-color: #d4ebff;}#sk-container-id-7 div.sk-label input.sk-toggleable__control:checked~label.sk-toggleable__label {background-color: #d4ebff;}#sk-container-id-7 input.sk-hidden--visually {border: 0;clip: rect(1px 1px 1px 1px);clip: rect(1px, 1px, 1px, 1px);height: 1px;margin: -1px;overflow: hidden;padding: 0;position: absolute;width: 1px;}#sk-container-id-7 div.sk-estimator {font-family: monospace;background-color: #f0f8ff;border: 1px dotted black;border-radius: 0.25em;box-sizing: border-box;margin-bottom: 0.5em;}#sk-container-id-7 div.sk-estimator:hover {background-color: #d4ebff;}#sk-container-id-7 div.sk-parallel-item::after {content: \"\";width: 100%;border-bottom: 1px solid gray;flex-grow: 1;}#sk-container-id-7 div.sk-label:hover label.sk-toggleable__label {background-color: #d4ebff;}#sk-container-id-7 div.sk-serial::before {content: \"\";position: absolute;border-left: 1px solid gray;box-sizing: border-box;top: 0;bottom: 0;left: 50%;z-index: 0;}#sk-container-id-7 div.sk-serial {display: flex;flex-direction: column;align-items: center;background-color: white;padding-right: 0.2em;padding-left: 0.2em;position: relative;}#sk-container-id-7 div.sk-item {position: relative;z-index: 1;}#sk-container-id-7 div.sk-parallel {display: flex;align-items: stretch;justify-content: center;background-color: white;position: relative;}#sk-container-id-7 div.sk-item::before, #sk-container-id-7 div.sk-parallel-item::before {content: \"\";position: absolute;border-left: 1px solid gray;box-sizing: border-box;top: 0;bottom: 0;left: 50%;z-index: -1;}#sk-container-id-7 div.sk-parallel-item {display: flex;flex-direction: column;z-index: 1;position: relative;background-color: white;}#sk-container-id-7 div.sk-parallel-item:first-child::after {align-self: flex-end;width: 50%;}#sk-container-id-7 div.sk-parallel-item:last-child::after {align-self: flex-start;width: 50%;}#sk-container-id-7 div.sk-parallel-item:only-child::after {width: 0;}#sk-container-id-7 div.sk-dashed-wrapped {border: 1px dashed gray;margin: 0 0.4em 0.5em 0.4em;box-sizing: border-box;padding-bottom: 0.4em;background-color: white;}#sk-container-id-7 div.sk-label label {font-family: monospace;font-weight: bold;display: inline-block;line-height: 1.2em;}#sk-container-id-7 div.sk-label-container {text-align: center;}#sk-container-id-7 div.sk-container {/* jupyter's `normalize.less` sets `[hidden] { display: none; }` but bootstrap.min.css set `[hidden] { display: none !important; }` so we also need the `!important` here to be able to override the default hidden behavior on the sphinx rendered scikit-learn.org. See: https://github.com/scikit-learn/scikit-learn/issues/21755 */display: inline-block !important;position: relative;}#sk-container-id-7 div.sk-text-repr-fallback {display: none;}</style><div id=\"sk-container-id-7\" class=\"sk-top-container\"><div class=\"sk-text-repr-fallback\"><pre>LogisticRegression()</pre><b>In a Jupyter environment, please rerun this cell to show the HTML representation or trust the notebook. <br />On GitHub, the HTML representation is unable to render, please try loading this page with nbviewer.org.</b></div><div class=\"sk-container\" hidden><div class=\"sk-item\"><div class=\"sk-estimator sk-toggleable\"><input class=\"sk-toggleable__control sk-hidden--visually\" id=\"sk-estimator-id-7\" type=\"checkbox\" checked><label for=\"sk-estimator-id-7\" class=\"sk-toggleable__label sk-toggleable__label-arrow\">LogisticRegression</label><div class=\"sk-toggleable__content\"><pre>LogisticRegression()</pre></div></div></div></div></div>"
            ]
          },
          "metadata": {},
          "execution_count": 146
        }
      ]
    },
    {
      "cell_type": "code",
      "source": [
        "y_pred_1 = logmodel_1.predict(X_test_1)"
      ],
      "metadata": {
        "id": "F4PIf8sS_l3S"
      },
      "execution_count": null,
      "outputs": []
    },
    {
      "cell_type": "code",
      "source": [
        "print(classification_report(y_test_1,y_pred_1))"
      ],
      "metadata": {
        "colab": {
          "base_uri": "https://localhost:8080/"
        },
        "id": "uPa-qFz9_wDT",
        "outputId": "4c7a3d08-2e83-424c-8bbe-b2a55d2897f7"
      },
      "execution_count": null,
      "outputs": [
        {
          "output_type": "stream",
          "name": "stdout",
          "text": [
            "              precision    recall  f1-score   support\n",
            "\n",
            "           0       0.94      0.68      0.79      1855\n",
            "           1       0.23      0.68      0.34       261\n",
            "\n",
            "    accuracy                           0.68      2116\n",
            "   macro avg       0.58      0.68      0.56      2116\n",
            "weighted avg       0.85      0.68      0.73      2116\n",
            "\n"
          ]
        }
      ]
    },
    {
      "cell_type": "code",
      "source": [
        "print(confusion_matrix(y_test_1,y_pred_1))"
      ],
      "metadata": {
        "colab": {
          "base_uri": "https://localhost:8080/"
        },
        "id": "-BSqHJNYAnak",
        "outputId": "7be4df04-5109-4def-8309-00b0b5b04667"
      },
      "execution_count": null,
      "outputs": [
        {
          "output_type": "stream",
          "name": "stdout",
          "text": [
            "[[1257  598]\n",
            " [  84  177]]\n"
          ]
        }
      ]
    },
    {
      "cell_type": "code",
      "source": [
        "coefficients_1 = logmodel_1.coef_\n",
        "coef_df_1 = pd.DataFrame(coefficients_1, columns=df_feat.columns)\n",
        "coef_df_1"
      ],
      "metadata": {
        "colab": {
          "base_uri": "https://localhost:8080/"
        },
        "id": "_29p9SH8GMue",
        "outputId": "2e05eba0-77c1-47c1-b90a-9a58037ccdd3"
      },
      "execution_count": null,
      "outputs": [
        {
          "output_type": "execute_result",
          "data": {
            "text/plain": [
              "      V21_t     V66_t     V69_t    V127_t    V128_t    V135_t    V138_t  \\\n",
              "0 -0.043778  0.055359 -0.153378 -0.174193 -0.066413  0.044681  0.043238   \n",
              "\n",
              "      V37_t     V39_t     V41_t  ...    V114_t    V115_t    V116_t    V117_t  \\\n",
              "0  0.063198  0.008634  0.210348  ...  0.084718  0.512514 -0.250476  0.187633   \n",
              "\n",
              "     V119_t    V120_t    V121_t    V126_t       V95    V191_t  \n",
              "0  0.083339 -0.117513 -0.131313 -0.032349  0.324904 -0.063922  \n",
              "\n",
              "[1 rows x 38 columns]"
            ],
            "text/html": [
              "\n",
              "  <div id=\"df-f1062bdb-bce8-4b9e-b905-a11cf022df3e\" class=\"colab-df-container\">\n",
              "    <div>\n",
              "<style scoped>\n",
              "    .dataframe tbody tr th:only-of-type {\n",
              "        vertical-align: middle;\n",
              "    }\n",
              "\n",
              "    .dataframe tbody tr th {\n",
              "        vertical-align: top;\n",
              "    }\n",
              "\n",
              "    .dataframe thead th {\n",
              "        text-align: right;\n",
              "    }\n",
              "</style>\n",
              "<table border=\"1\" class=\"dataframe\">\n",
              "  <thead>\n",
              "    <tr style=\"text-align: right;\">\n",
              "      <th></th>\n",
              "      <th>V21_t</th>\n",
              "      <th>V66_t</th>\n",
              "      <th>V69_t</th>\n",
              "      <th>V127_t</th>\n",
              "      <th>V128_t</th>\n",
              "      <th>V135_t</th>\n",
              "      <th>V138_t</th>\n",
              "      <th>V37_t</th>\n",
              "      <th>V39_t</th>\n",
              "      <th>V41_t</th>\n",
              "      <th>...</th>\n",
              "      <th>V114_t</th>\n",
              "      <th>V115_t</th>\n",
              "      <th>V116_t</th>\n",
              "      <th>V117_t</th>\n",
              "      <th>V119_t</th>\n",
              "      <th>V120_t</th>\n",
              "      <th>V121_t</th>\n",
              "      <th>V126_t</th>\n",
              "      <th>V95</th>\n",
              "      <th>V191_t</th>\n",
              "    </tr>\n",
              "  </thead>\n",
              "  <tbody>\n",
              "    <tr>\n",
              "      <th>0</th>\n",
              "      <td>-0.043778</td>\n",
              "      <td>0.055359</td>\n",
              "      <td>-0.153378</td>\n",
              "      <td>-0.174193</td>\n",
              "      <td>-0.066413</td>\n",
              "      <td>0.044681</td>\n",
              "      <td>0.043238</td>\n",
              "      <td>0.063198</td>\n",
              "      <td>0.008634</td>\n",
              "      <td>0.210348</td>\n",
              "      <td>...</td>\n",
              "      <td>0.084718</td>\n",
              "      <td>0.512514</td>\n",
              "      <td>-0.250476</td>\n",
              "      <td>0.187633</td>\n",
              "      <td>0.083339</td>\n",
              "      <td>-0.117513</td>\n",
              "      <td>-0.131313</td>\n",
              "      <td>-0.032349</td>\n",
              "      <td>0.324904</td>\n",
              "      <td>-0.063922</td>\n",
              "    </tr>\n",
              "  </tbody>\n",
              "</table>\n",
              "<p>1 rows × 38 columns</p>\n",
              "</div>\n",
              "    <div class=\"colab-df-buttons\">\n",
              "\n",
              "  <div class=\"colab-df-container\">\n",
              "    <button class=\"colab-df-convert\" onclick=\"convertToInteractive('df-f1062bdb-bce8-4b9e-b905-a11cf022df3e')\"\n",
              "            title=\"Convert this dataframe to an interactive table.\"\n",
              "            style=\"display:none;\">\n",
              "\n",
              "  <svg xmlns=\"http://www.w3.org/2000/svg\" height=\"24px\" viewBox=\"0 -960 960 960\">\n",
              "    <path d=\"M120-120v-720h720v720H120Zm60-500h600v-160H180v160Zm220 220h160v-160H400v160Zm0 220h160v-160H400v160ZM180-400h160v-160H180v160Zm440 0h160v-160H620v160ZM180-180h160v-160H180v160Zm440 0h160v-160H620v160Z\"/>\n",
              "  </svg>\n",
              "    </button>\n",
              "\n",
              "  <style>\n",
              "    .colab-df-container {\n",
              "      display:flex;\n",
              "      gap: 12px;\n",
              "    }\n",
              "\n",
              "    .colab-df-convert {\n",
              "      background-color: #E8F0FE;\n",
              "      border: none;\n",
              "      border-radius: 50%;\n",
              "      cursor: pointer;\n",
              "      display: none;\n",
              "      fill: #1967D2;\n",
              "      height: 32px;\n",
              "      padding: 0 0 0 0;\n",
              "      width: 32px;\n",
              "    }\n",
              "\n",
              "    .colab-df-convert:hover {\n",
              "      background-color: #E2EBFA;\n",
              "      box-shadow: 0px 1px 2px rgba(60, 64, 67, 0.3), 0px 1px 3px 1px rgba(60, 64, 67, 0.15);\n",
              "      fill: #174EA6;\n",
              "    }\n",
              "\n",
              "    .colab-df-buttons div {\n",
              "      margin-bottom: 4px;\n",
              "    }\n",
              "\n",
              "    [theme=dark] .colab-df-convert {\n",
              "      background-color: #3B4455;\n",
              "      fill: #D2E3FC;\n",
              "    }\n",
              "\n",
              "    [theme=dark] .colab-df-convert:hover {\n",
              "      background-color: #434B5C;\n",
              "      box-shadow: 0px 1px 3px 1px rgba(0, 0, 0, 0.15);\n",
              "      filter: drop-shadow(0px 1px 2px rgba(0, 0, 0, 0.3));\n",
              "      fill: #FFFFFF;\n",
              "    }\n",
              "  </style>\n",
              "\n",
              "    <script>\n",
              "      const buttonEl =\n",
              "        document.querySelector('#df-f1062bdb-bce8-4b9e-b905-a11cf022df3e button.colab-df-convert');\n",
              "      buttonEl.style.display =\n",
              "        google.colab.kernel.accessAllowed ? 'block' : 'none';\n",
              "\n",
              "      async function convertToInteractive(key) {\n",
              "        const element = document.querySelector('#df-f1062bdb-bce8-4b9e-b905-a11cf022df3e');\n",
              "        const dataTable =\n",
              "          await google.colab.kernel.invokeFunction('convertToInteractive',\n",
              "                                                    [key], {});\n",
              "        if (!dataTable) return;\n",
              "\n",
              "        const docLinkHtml = 'Like what you see? Visit the ' +\n",
              "          '<a target=\"_blank\" href=https://colab.research.google.com/notebooks/data_table.ipynb>data table notebook</a>'\n",
              "          + ' to learn more about interactive tables.';\n",
              "        element.innerHTML = '';\n",
              "        dataTable['output_type'] = 'display_data';\n",
              "        await google.colab.output.renderOutput(dataTable, element);\n",
              "        const docLink = document.createElement('div');\n",
              "        docLink.innerHTML = docLinkHtml;\n",
              "        element.appendChild(docLink);\n",
              "      }\n",
              "    </script>\n",
              "  </div>\n",
              "\n",
              "\n",
              "  <div id=\"id_24bf54b6-cec2-4792-bdbe-44bf3b70fdac\">\n",
              "    <style>\n",
              "      .colab-df-generate {\n",
              "        background-color: #E8F0FE;\n",
              "        border: none;\n",
              "        border-radius: 50%;\n",
              "        cursor: pointer;\n",
              "        display: none;\n",
              "        fill: #1967D2;\n",
              "        height: 32px;\n",
              "        padding: 0 0 0 0;\n",
              "        width: 32px;\n",
              "      }\n",
              "\n",
              "      .colab-df-generate:hover {\n",
              "        background-color: #E2EBFA;\n",
              "        box-shadow: 0px 1px 2px rgba(60, 64, 67, 0.3), 0px 1px 3px 1px rgba(60, 64, 67, 0.15);\n",
              "        fill: #174EA6;\n",
              "      }\n",
              "\n",
              "      [theme=dark] .colab-df-generate {\n",
              "        background-color: #3B4455;\n",
              "        fill: #D2E3FC;\n",
              "      }\n",
              "\n",
              "      [theme=dark] .colab-df-generate:hover {\n",
              "        background-color: #434B5C;\n",
              "        box-shadow: 0px 1px 3px 1px rgba(0, 0, 0, 0.15);\n",
              "        filter: drop-shadow(0px 1px 2px rgba(0, 0, 0, 0.3));\n",
              "        fill: #FFFFFF;\n",
              "      }\n",
              "    </style>\n",
              "    <button class=\"colab-df-generate\" onclick=\"generateWithVariable('coef_df_1')\"\n",
              "            title=\"Generate code using this dataframe.\"\n",
              "            style=\"display:none;\">\n",
              "\n",
              "  <svg xmlns=\"http://www.w3.org/2000/svg\" height=\"24px\"viewBox=\"0 0 24 24\"\n",
              "       width=\"24px\">\n",
              "    <path d=\"M7,19H8.4L18.45,9,17,7.55,7,17.6ZM5,21V16.75L18.45,3.32a2,2,0,0,1,2.83,0l1.4,1.43a1.91,1.91,0,0,1,.58,1.4,1.91,1.91,0,0,1-.58,1.4L9.25,21ZM18.45,9,17,7.55Zm-12,3A5.31,5.31,0,0,0,4.9,8.1,5.31,5.31,0,0,0,1,6.5,5.31,5.31,0,0,0,4.9,4.9,5.31,5.31,0,0,0,6.5,1,5.31,5.31,0,0,0,8.1,4.9,5.31,5.31,0,0,0,12,6.5,5.46,5.46,0,0,0,6.5,12Z\"/>\n",
              "  </svg>\n",
              "    </button>\n",
              "    <script>\n",
              "      (() => {\n",
              "      const buttonEl =\n",
              "        document.querySelector('#id_24bf54b6-cec2-4792-bdbe-44bf3b70fdac button.colab-df-generate');\n",
              "      buttonEl.style.display =\n",
              "        google.colab.kernel.accessAllowed ? 'block' : 'none';\n",
              "\n",
              "      buttonEl.onclick = () => {\n",
              "        google.colab.notebook.generateWithVariable('coef_df_1');\n",
              "      }\n",
              "      })();\n",
              "    </script>\n",
              "  </div>\n",
              "\n",
              "    </div>\n",
              "  </div>\n"
            ],
            "application/vnd.google.colaboratory.intrinsic+json": {
              "type": "dataframe",
              "variable_name": "coef_df_1"
            }
          },
          "metadata": {},
          "execution_count": 150
        }
      ]
    },
    {
      "cell_type": "markdown",
      "source": [
        "# Second trial: Standarizing values from scales (including demographic scales with dummy variables) and performing the Logistic Regression. Acurracy = 0%"
      ],
      "metadata": {
        "id": "CFDvFWl0FYA3"
      }
    },
    {
      "cell_type": "code",
      "source": [
        "merged_demo_df = combined_df_demo[['V57_married', 'V57_separated_divorced_widowed',\n",
        "       'V58_children', 'religious', 'unemployed', 'second_halve', 'male',\n",
        "       'V241_boomer', 'V241_generation_x', 'V241_millennial',\n",
        "       'university_education', 'urban', 'V265_manager',\n",
        "       'V265_petty_bourgeoisie', 'V265_routine_non_manual',\n",
        "       'V265_skilled_manual', 'prr_vote']]"
      ],
      "metadata": {
        "id": "hikztCqQv6oX"
      },
      "execution_count": null,
      "outputs": []
    },
    {
      "cell_type": "code",
      "source": [
        "# Concatenate the standardized features DataFrame with the demographic DataFrame\n",
        "new_combined_df_demo = pd.concat([df_feat, merged_demo_df], axis=1)"
      ],
      "metadata": {
        "id": "K7ujuE9tx3zg"
      },
      "execution_count": null,
      "outputs": []
    },
    {
      "cell_type": "code",
      "source": [
        "'''# Concatenate the standardized features DataFrame with the demographic DataFrame\n",
        "new_combined_df_demo = pd.concat([df_feat, merged_demo_df], axis=1)\n",
        "\n",
        "# Addin the dependent variable from the new_df_without_demo dataframe\n",
        "new_df_without_demo_reset = new_df_without_demo.reset_index(drop=True)\n",
        "combined_df_demo['prr_vote'] = new_df_without_demo_reset['prr_vote']'''"
      ],
      "metadata": {
        "id": "Q24Tgsq09MU4",
        "colab": {
          "base_uri": "https://localhost:8080/"
        },
        "outputId": "5b0d8969-6bf2-4c3e-f8bf-662b05a3875f"
      },
      "execution_count": null,
      "outputs": [
        {
          "output_type": "execute_result",
          "data": {
            "text/plain": [
              "\"# Concatenate the standardized features DataFrame with the demographic DataFrame\\nnew_combined_df_demo = pd.concat([df_feat, merged_demo_df], axis=1)\\n\\n# Addin the dependent variable from the new_df_without_demo dataframe\\nnew_df_without_demo_reset = new_df_without_demo.reset_index(drop=True)\\ncombined_df_demo['prr_vote'] = new_df_without_demo_reset['prr_vote']\""
            ],
            "application/vnd.google.colaboratory.intrinsic+json": {
              "type": "string"
            }
          },
          "metadata": {},
          "execution_count": 153
        }
      ]
    },
    {
      "cell_type": "code",
      "source": [
        "X_2 = new_combined_df_demo.iloc[:, :-1]\n",
        "y_2 = new_combined_df_demo['prr_vote']"
      ],
      "metadata": {
        "id": "z9XnQYHJ-NXn"
      },
      "execution_count": null,
      "outputs": []
    },
    {
      "cell_type": "code",
      "source": [
        "X_train_2, X_test_2, y_train_2, y_test_2 = train_test_split(X_2, y_2, test_size=0.25, random_state=101, stratify=y_2)"
      ],
      "metadata": {
        "id": "TVUbvji6-NXn"
      },
      "execution_count": null,
      "outputs": []
    },
    {
      "cell_type": "code",
      "source": [
        "undersampler_2 = RandomUnderSampler(random_state=101)\n",
        "X_train_resampled_2, y_train_resampled_2 = undersampler_2.fit_resample(X_train_2, y_train_2)"
      ],
      "metadata": {
        "id": "ejzefH6ZiDJt"
      },
      "execution_count": null,
      "outputs": []
    },
    {
      "cell_type": "code",
      "source": [
        "logmodel_2 = LogisticRegression()"
      ],
      "metadata": {
        "id": "JLPLlrt2-NXn"
      },
      "execution_count": null,
      "outputs": []
    },
    {
      "cell_type": "code",
      "source": [
        "# Calculate VIF for each feature\n",
        "vif_data = pd.DataFrame()\n",
        "vif_data[\"Feature\"] = X_train_2.columns\n",
        "vif_data[\"VIF\"] = [variance_inflation_factor(X_train_2.values, i) for i in range(X_train_2.shape[1])]\n",
        "\n",
        "# Display VIF values\n",
        "vif_data[vif_data['VIF'] > 10]"
      ],
      "metadata": {
        "colab": {
          "base_uri": "https://localhost:8080/"
        },
        "id": "-7ihldf0A5XI",
        "outputId": "9795623a-84c3-4452-8e4d-621f9bf4263e"
      },
      "execution_count": null,
      "outputs": [
        {
          "output_type": "execute_result",
          "data": {
            "text/plain": [
              "Empty DataFrame\n",
              "Columns: [Feature, VIF]\n",
              "Index: []"
            ],
            "text/html": [
              "\n",
              "  <div id=\"df-78ea2e39-a2e9-4cd2-aba9-dd2d23a677a8\" class=\"colab-df-container\">\n",
              "    <div>\n",
              "<style scoped>\n",
              "    .dataframe tbody tr th:only-of-type {\n",
              "        vertical-align: middle;\n",
              "    }\n",
              "\n",
              "    .dataframe tbody tr th {\n",
              "        vertical-align: top;\n",
              "    }\n",
              "\n",
              "    .dataframe thead th {\n",
              "        text-align: right;\n",
              "    }\n",
              "</style>\n",
              "<table border=\"1\" class=\"dataframe\">\n",
              "  <thead>\n",
              "    <tr style=\"text-align: right;\">\n",
              "      <th></th>\n",
              "      <th>Feature</th>\n",
              "      <th>VIF</th>\n",
              "    </tr>\n",
              "  </thead>\n",
              "  <tbody>\n",
              "  </tbody>\n",
              "</table>\n",
              "</div>\n",
              "    <div class=\"colab-df-buttons\">\n",
              "\n",
              "  <div class=\"colab-df-container\">\n",
              "    <button class=\"colab-df-convert\" onclick=\"convertToInteractive('df-78ea2e39-a2e9-4cd2-aba9-dd2d23a677a8')\"\n",
              "            title=\"Convert this dataframe to an interactive table.\"\n",
              "            style=\"display:none;\">\n",
              "\n",
              "  <svg xmlns=\"http://www.w3.org/2000/svg\" height=\"24px\" viewBox=\"0 -960 960 960\">\n",
              "    <path d=\"M120-120v-720h720v720H120Zm60-500h600v-160H180v160Zm220 220h160v-160H400v160Zm0 220h160v-160H400v160ZM180-400h160v-160H180v160Zm440 0h160v-160H620v160ZM180-180h160v-160H180v160Zm440 0h160v-160H620v160Z\"/>\n",
              "  </svg>\n",
              "    </button>\n",
              "\n",
              "  <style>\n",
              "    .colab-df-container {\n",
              "      display:flex;\n",
              "      gap: 12px;\n",
              "    }\n",
              "\n",
              "    .colab-df-convert {\n",
              "      background-color: #E8F0FE;\n",
              "      border: none;\n",
              "      border-radius: 50%;\n",
              "      cursor: pointer;\n",
              "      display: none;\n",
              "      fill: #1967D2;\n",
              "      height: 32px;\n",
              "      padding: 0 0 0 0;\n",
              "      width: 32px;\n",
              "    }\n",
              "\n",
              "    .colab-df-convert:hover {\n",
              "      background-color: #E2EBFA;\n",
              "      box-shadow: 0px 1px 2px rgba(60, 64, 67, 0.3), 0px 1px 3px 1px rgba(60, 64, 67, 0.15);\n",
              "      fill: #174EA6;\n",
              "    }\n",
              "\n",
              "    .colab-df-buttons div {\n",
              "      margin-bottom: 4px;\n",
              "    }\n",
              "\n",
              "    [theme=dark] .colab-df-convert {\n",
              "      background-color: #3B4455;\n",
              "      fill: #D2E3FC;\n",
              "    }\n",
              "\n",
              "    [theme=dark] .colab-df-convert:hover {\n",
              "      background-color: #434B5C;\n",
              "      box-shadow: 0px 1px 3px 1px rgba(0, 0, 0, 0.15);\n",
              "      filter: drop-shadow(0px 1px 2px rgba(0, 0, 0, 0.3));\n",
              "      fill: #FFFFFF;\n",
              "    }\n",
              "  </style>\n",
              "\n",
              "    <script>\n",
              "      const buttonEl =\n",
              "        document.querySelector('#df-78ea2e39-a2e9-4cd2-aba9-dd2d23a677a8 button.colab-df-convert');\n",
              "      buttonEl.style.display =\n",
              "        google.colab.kernel.accessAllowed ? 'block' : 'none';\n",
              "\n",
              "      async function convertToInteractive(key) {\n",
              "        const element = document.querySelector('#df-78ea2e39-a2e9-4cd2-aba9-dd2d23a677a8');\n",
              "        const dataTable =\n",
              "          await google.colab.kernel.invokeFunction('convertToInteractive',\n",
              "                                                    [key], {});\n",
              "        if (!dataTable) return;\n",
              "\n",
              "        const docLinkHtml = 'Like what you see? Visit the ' +\n",
              "          '<a target=\"_blank\" href=https://colab.research.google.com/notebooks/data_table.ipynb>data table notebook</a>'\n",
              "          + ' to learn more about interactive tables.';\n",
              "        element.innerHTML = '';\n",
              "        dataTable['output_type'] = 'display_data';\n",
              "        await google.colab.output.renderOutput(dataTable, element);\n",
              "        const docLink = document.createElement('div');\n",
              "        docLink.innerHTML = docLinkHtml;\n",
              "        element.appendChild(docLink);\n",
              "      }\n",
              "    </script>\n",
              "  </div>\n",
              "\n",
              "\n",
              "    </div>\n",
              "  </div>\n"
            ],
            "application/vnd.google.colaboratory.intrinsic+json": {
              "type": "dataframe",
              "repr_error": "Out of range float values are not JSON compliant: nan"
            }
          },
          "metadata": {},
          "execution_count": 158
        }
      ]
    },
    {
      "cell_type": "code",
      "source": [
        "vif_data[vif_data['VIF'] > 10] # MULTICOLINEARITY"
      ],
      "metadata": {
        "colab": {
          "base_uri": "https://localhost:8080/"
        },
        "id": "xmaMXXIHBma9",
        "outputId": "4272d844-b24f-4e0f-c609-3291d35fca92"
      },
      "execution_count": null,
      "outputs": [
        {
          "output_type": "execute_result",
          "data": {
            "text/plain": [
              "Empty DataFrame\n",
              "Columns: [Feature, VIF]\n",
              "Index: []"
            ],
            "text/html": [
              "\n",
              "  <div id=\"df-2f2d0a6f-d8aa-409b-95b1-dae643a142ce\" class=\"colab-df-container\">\n",
              "    <div>\n",
              "<style scoped>\n",
              "    .dataframe tbody tr th:only-of-type {\n",
              "        vertical-align: middle;\n",
              "    }\n",
              "\n",
              "    .dataframe tbody tr th {\n",
              "        vertical-align: top;\n",
              "    }\n",
              "\n",
              "    .dataframe thead th {\n",
              "        text-align: right;\n",
              "    }\n",
              "</style>\n",
              "<table border=\"1\" class=\"dataframe\">\n",
              "  <thead>\n",
              "    <tr style=\"text-align: right;\">\n",
              "      <th></th>\n",
              "      <th>Feature</th>\n",
              "      <th>VIF</th>\n",
              "    </tr>\n",
              "  </thead>\n",
              "  <tbody>\n",
              "  </tbody>\n",
              "</table>\n",
              "</div>\n",
              "    <div class=\"colab-df-buttons\">\n",
              "\n",
              "  <div class=\"colab-df-container\">\n",
              "    <button class=\"colab-df-convert\" onclick=\"convertToInteractive('df-2f2d0a6f-d8aa-409b-95b1-dae643a142ce')\"\n",
              "            title=\"Convert this dataframe to an interactive table.\"\n",
              "            style=\"display:none;\">\n",
              "\n",
              "  <svg xmlns=\"http://www.w3.org/2000/svg\" height=\"24px\" viewBox=\"0 -960 960 960\">\n",
              "    <path d=\"M120-120v-720h720v720H120Zm60-500h600v-160H180v160Zm220 220h160v-160H400v160Zm0 220h160v-160H400v160ZM180-400h160v-160H180v160Zm440 0h160v-160H620v160ZM180-180h160v-160H180v160Zm440 0h160v-160H620v160Z\"/>\n",
              "  </svg>\n",
              "    </button>\n",
              "\n",
              "  <style>\n",
              "    .colab-df-container {\n",
              "      display:flex;\n",
              "      gap: 12px;\n",
              "    }\n",
              "\n",
              "    .colab-df-convert {\n",
              "      background-color: #E8F0FE;\n",
              "      border: none;\n",
              "      border-radius: 50%;\n",
              "      cursor: pointer;\n",
              "      display: none;\n",
              "      fill: #1967D2;\n",
              "      height: 32px;\n",
              "      padding: 0 0 0 0;\n",
              "      width: 32px;\n",
              "    }\n",
              "\n",
              "    .colab-df-convert:hover {\n",
              "      background-color: #E2EBFA;\n",
              "      box-shadow: 0px 1px 2px rgba(60, 64, 67, 0.3), 0px 1px 3px 1px rgba(60, 64, 67, 0.15);\n",
              "      fill: #174EA6;\n",
              "    }\n",
              "\n",
              "    .colab-df-buttons div {\n",
              "      margin-bottom: 4px;\n",
              "    }\n",
              "\n",
              "    [theme=dark] .colab-df-convert {\n",
              "      background-color: #3B4455;\n",
              "      fill: #D2E3FC;\n",
              "    }\n",
              "\n",
              "    [theme=dark] .colab-df-convert:hover {\n",
              "      background-color: #434B5C;\n",
              "      box-shadow: 0px 1px 3px 1px rgba(0, 0, 0, 0.15);\n",
              "      filter: drop-shadow(0px 1px 2px rgba(0, 0, 0, 0.3));\n",
              "      fill: #FFFFFF;\n",
              "    }\n",
              "  </style>\n",
              "\n",
              "    <script>\n",
              "      const buttonEl =\n",
              "        document.querySelector('#df-2f2d0a6f-d8aa-409b-95b1-dae643a142ce button.colab-df-convert');\n",
              "      buttonEl.style.display =\n",
              "        google.colab.kernel.accessAllowed ? 'block' : 'none';\n",
              "\n",
              "      async function convertToInteractive(key) {\n",
              "        const element = document.querySelector('#df-2f2d0a6f-d8aa-409b-95b1-dae643a142ce');\n",
              "        const dataTable =\n",
              "          await google.colab.kernel.invokeFunction('convertToInteractive',\n",
              "                                                    [key], {});\n",
              "        if (!dataTable) return;\n",
              "\n",
              "        const docLinkHtml = 'Like what you see? Visit the ' +\n",
              "          '<a target=\"_blank\" href=https://colab.research.google.com/notebooks/data_table.ipynb>data table notebook</a>'\n",
              "          + ' to learn more about interactive tables.';\n",
              "        element.innerHTML = '';\n",
              "        dataTable['output_type'] = 'display_data';\n",
              "        await google.colab.output.renderOutput(dataTable, element);\n",
              "        const docLink = document.createElement('div');\n",
              "        docLink.innerHTML = docLinkHtml;\n",
              "        element.appendChild(docLink);\n",
              "      }\n",
              "    </script>\n",
              "  </div>\n",
              "\n",
              "\n",
              "    </div>\n",
              "  </div>\n"
            ],
            "application/vnd.google.colaboratory.intrinsic+json": {
              "type": "dataframe",
              "repr_error": "Out of range float values are not JSON compliant: nan"
            }
          },
          "metadata": {},
          "execution_count": 159
        }
      ]
    },
    {
      "cell_type": "code",
      "source": [
        "logmodel_2.fit(X_train_resampled_2,y_train_resampled_2)"
      ],
      "metadata": {
        "colab": {
          "base_uri": "https://localhost:8080/"
        },
        "outputId": "7476472d-7ff8-4062-9fa7-a7fb777b7658",
        "id": "3pV3Awj2-NXn"
      },
      "execution_count": null,
      "outputs": [
        {
          "output_type": "execute_result",
          "data": {
            "text/plain": [
              "LogisticRegression()"
            ],
            "text/html": [
              "<style>#sk-container-id-8 {color: black;background-color: white;}#sk-container-id-8 pre{padding: 0;}#sk-container-id-8 div.sk-toggleable {background-color: white;}#sk-container-id-8 label.sk-toggleable__label {cursor: pointer;display: block;width: 100%;margin-bottom: 0;padding: 0.3em;box-sizing: border-box;text-align: center;}#sk-container-id-8 label.sk-toggleable__label-arrow:before {content: \"▸\";float: left;margin-right: 0.25em;color: #696969;}#sk-container-id-8 label.sk-toggleable__label-arrow:hover:before {color: black;}#sk-container-id-8 div.sk-estimator:hover label.sk-toggleable__label-arrow:before {color: black;}#sk-container-id-8 div.sk-toggleable__content {max-height: 0;max-width: 0;overflow: hidden;text-align: left;background-color: #f0f8ff;}#sk-container-id-8 div.sk-toggleable__content pre {margin: 0.2em;color: black;border-radius: 0.25em;background-color: #f0f8ff;}#sk-container-id-8 input.sk-toggleable__control:checked~div.sk-toggleable__content {max-height: 200px;max-width: 100%;overflow: auto;}#sk-container-id-8 input.sk-toggleable__control:checked~label.sk-toggleable__label-arrow:before {content: \"▾\";}#sk-container-id-8 div.sk-estimator input.sk-toggleable__control:checked~label.sk-toggleable__label {background-color: #d4ebff;}#sk-container-id-8 div.sk-label input.sk-toggleable__control:checked~label.sk-toggleable__label {background-color: #d4ebff;}#sk-container-id-8 input.sk-hidden--visually {border: 0;clip: rect(1px 1px 1px 1px);clip: rect(1px, 1px, 1px, 1px);height: 1px;margin: -1px;overflow: hidden;padding: 0;position: absolute;width: 1px;}#sk-container-id-8 div.sk-estimator {font-family: monospace;background-color: #f0f8ff;border: 1px dotted black;border-radius: 0.25em;box-sizing: border-box;margin-bottom: 0.5em;}#sk-container-id-8 div.sk-estimator:hover {background-color: #d4ebff;}#sk-container-id-8 div.sk-parallel-item::after {content: \"\";width: 100%;border-bottom: 1px solid gray;flex-grow: 1;}#sk-container-id-8 div.sk-label:hover label.sk-toggleable__label {background-color: #d4ebff;}#sk-container-id-8 div.sk-serial::before {content: \"\";position: absolute;border-left: 1px solid gray;box-sizing: border-box;top: 0;bottom: 0;left: 50%;z-index: 0;}#sk-container-id-8 div.sk-serial {display: flex;flex-direction: column;align-items: center;background-color: white;padding-right: 0.2em;padding-left: 0.2em;position: relative;}#sk-container-id-8 div.sk-item {position: relative;z-index: 1;}#sk-container-id-8 div.sk-parallel {display: flex;align-items: stretch;justify-content: center;background-color: white;position: relative;}#sk-container-id-8 div.sk-item::before, #sk-container-id-8 div.sk-parallel-item::before {content: \"\";position: absolute;border-left: 1px solid gray;box-sizing: border-box;top: 0;bottom: 0;left: 50%;z-index: -1;}#sk-container-id-8 div.sk-parallel-item {display: flex;flex-direction: column;z-index: 1;position: relative;background-color: white;}#sk-container-id-8 div.sk-parallel-item:first-child::after {align-self: flex-end;width: 50%;}#sk-container-id-8 div.sk-parallel-item:last-child::after {align-self: flex-start;width: 50%;}#sk-container-id-8 div.sk-parallel-item:only-child::after {width: 0;}#sk-container-id-8 div.sk-dashed-wrapped {border: 1px dashed gray;margin: 0 0.4em 0.5em 0.4em;box-sizing: border-box;padding-bottom: 0.4em;background-color: white;}#sk-container-id-8 div.sk-label label {font-family: monospace;font-weight: bold;display: inline-block;line-height: 1.2em;}#sk-container-id-8 div.sk-label-container {text-align: center;}#sk-container-id-8 div.sk-container {/* jupyter's `normalize.less` sets `[hidden] { display: none; }` but bootstrap.min.css set `[hidden] { display: none !important; }` so we also need the `!important` here to be able to override the default hidden behavior on the sphinx rendered scikit-learn.org. See: https://github.com/scikit-learn/scikit-learn/issues/21755 */display: inline-block !important;position: relative;}#sk-container-id-8 div.sk-text-repr-fallback {display: none;}</style><div id=\"sk-container-id-8\" class=\"sk-top-container\"><div class=\"sk-text-repr-fallback\"><pre>LogisticRegression()</pre><b>In a Jupyter environment, please rerun this cell to show the HTML representation or trust the notebook. <br />On GitHub, the HTML representation is unable to render, please try loading this page with nbviewer.org.</b></div><div class=\"sk-container\" hidden><div class=\"sk-item\"><div class=\"sk-estimator sk-toggleable\"><input class=\"sk-toggleable__control sk-hidden--visually\" id=\"sk-estimator-id-8\" type=\"checkbox\" checked><label for=\"sk-estimator-id-8\" class=\"sk-toggleable__label sk-toggleable__label-arrow\">LogisticRegression</label><div class=\"sk-toggleable__content\"><pre>LogisticRegression()</pre></div></div></div></div></div>"
            ]
          },
          "metadata": {},
          "execution_count": 160
        }
      ]
    },
    {
      "cell_type": "code",
      "source": [
        "y_pred_2 = logmodel_2.predict(X_test_2)"
      ],
      "metadata": {
        "id": "nOJps6ry-NXn"
      },
      "execution_count": null,
      "outputs": []
    },
    {
      "cell_type": "code",
      "source": [
        "print(classification_report(y_test_2,y_pred_2))"
      ],
      "metadata": {
        "colab": {
          "base_uri": "https://localhost:8080/"
        },
        "outputId": "30b1a127-8cb3-439f-e346-ae7037d116cb",
        "id": "LXOE2uQA-NXn"
      },
      "execution_count": null,
      "outputs": [
        {
          "output_type": "stream",
          "name": "stdout",
          "text": [
            "              precision    recall  f1-score   support\n",
            "\n",
            "           0       0.93      0.68      0.79      1855\n",
            "           1       0.23      0.66      0.34       261\n",
            "\n",
            "    accuracy                           0.68      2116\n",
            "   macro avg       0.58      0.67      0.56      2116\n",
            "weighted avg       0.85      0.68      0.73      2116\n",
            "\n"
          ]
        }
      ]
    },
    {
      "cell_type": "code",
      "source": [
        "print(confusion_matrix(y_test_2,y_pred_2))"
      ],
      "metadata": {
        "colab": {
          "base_uri": "https://localhost:8080/"
        },
        "outputId": "c6aae6b5-dffc-48bf-c14b-0bef7a373453",
        "id": "D5AckXm2-NXn"
      },
      "execution_count": null,
      "outputs": [
        {
          "output_type": "stream",
          "name": "stdout",
          "text": [
            "[[1266  589]\n",
            " [  89  172]]\n"
          ]
        }
      ]
    },
    {
      "cell_type": "code",
      "source": [
        "coefficients_2 = logmodel_2.coef_\n",
        "coef_df_2 = pd.DataFrame(coefficients_2, columns=new_combined_df_demo.iloc[:, :-1].columns)\n",
        "coef_df_2"
      ],
      "metadata": {
        "id": "eqIBKvWJeiN6",
        "colab": {
          "base_uri": "https://localhost:8080/"
        },
        "outputId": "65ac367f-a778-4383-a80d-50b0a9c26db7"
      },
      "execution_count": null,
      "outputs": [
        {
          "output_type": "execute_result",
          "data": {
            "text/plain": [
              "      V21_t     V66_t     V69_t  V127_t    V128_t   V135_t    V138_t  \\\n",
              "0 -0.052735  0.076119 -0.113642  -0.155 -0.075965  0.02341  0.055212   \n",
              "\n",
              "      V37_t     V39_t     V41_t  ...     male  V241_boomer  V241_generation_x  \\\n",
              "0  0.075498  0.002872  0.212629  ... -0.01567     0.269257           0.372511   \n",
              "\n",
              "   V241_millennial  university_education     urban  V265_manager  \\\n",
              "0         0.539985             -0.282819  0.177473      0.647096   \n",
              "\n",
              "   V265_petty_bourgeoisie  V265_routine_non_manual  V265_skilled_manual  \n",
              "0                0.311254                  0.26622             0.369171  \n",
              "\n",
              "[1 rows x 54 columns]"
            ],
            "text/html": [
              "\n",
              "  <div id=\"df-ff270b58-bf12-43f6-8804-9d74905c0cd9\" class=\"colab-df-container\">\n",
              "    <div>\n",
              "<style scoped>\n",
              "    .dataframe tbody tr th:only-of-type {\n",
              "        vertical-align: middle;\n",
              "    }\n",
              "\n",
              "    .dataframe tbody tr th {\n",
              "        vertical-align: top;\n",
              "    }\n",
              "\n",
              "    .dataframe thead th {\n",
              "        text-align: right;\n",
              "    }\n",
              "</style>\n",
              "<table border=\"1\" class=\"dataframe\">\n",
              "  <thead>\n",
              "    <tr style=\"text-align: right;\">\n",
              "      <th></th>\n",
              "      <th>V21_t</th>\n",
              "      <th>V66_t</th>\n",
              "      <th>V69_t</th>\n",
              "      <th>V127_t</th>\n",
              "      <th>V128_t</th>\n",
              "      <th>V135_t</th>\n",
              "      <th>V138_t</th>\n",
              "      <th>V37_t</th>\n",
              "      <th>V39_t</th>\n",
              "      <th>V41_t</th>\n",
              "      <th>...</th>\n",
              "      <th>male</th>\n",
              "      <th>V241_boomer</th>\n",
              "      <th>V241_generation_x</th>\n",
              "      <th>V241_millennial</th>\n",
              "      <th>university_education</th>\n",
              "      <th>urban</th>\n",
              "      <th>V265_manager</th>\n",
              "      <th>V265_petty_bourgeoisie</th>\n",
              "      <th>V265_routine_non_manual</th>\n",
              "      <th>V265_skilled_manual</th>\n",
              "    </tr>\n",
              "  </thead>\n",
              "  <tbody>\n",
              "    <tr>\n",
              "      <th>0</th>\n",
              "      <td>-0.052735</td>\n",
              "      <td>0.076119</td>\n",
              "      <td>-0.113642</td>\n",
              "      <td>-0.155</td>\n",
              "      <td>-0.075965</td>\n",
              "      <td>0.02341</td>\n",
              "      <td>0.055212</td>\n",
              "      <td>0.075498</td>\n",
              "      <td>0.002872</td>\n",
              "      <td>0.212629</td>\n",
              "      <td>...</td>\n",
              "      <td>-0.01567</td>\n",
              "      <td>0.269257</td>\n",
              "      <td>0.372511</td>\n",
              "      <td>0.539985</td>\n",
              "      <td>-0.282819</td>\n",
              "      <td>0.177473</td>\n",
              "      <td>0.647096</td>\n",
              "      <td>0.311254</td>\n",
              "      <td>0.26622</td>\n",
              "      <td>0.369171</td>\n",
              "    </tr>\n",
              "  </tbody>\n",
              "</table>\n",
              "<p>1 rows × 54 columns</p>\n",
              "</div>\n",
              "    <div class=\"colab-df-buttons\">\n",
              "\n",
              "  <div class=\"colab-df-container\">\n",
              "    <button class=\"colab-df-convert\" onclick=\"convertToInteractive('df-ff270b58-bf12-43f6-8804-9d74905c0cd9')\"\n",
              "            title=\"Convert this dataframe to an interactive table.\"\n",
              "            style=\"display:none;\">\n",
              "\n",
              "  <svg xmlns=\"http://www.w3.org/2000/svg\" height=\"24px\" viewBox=\"0 -960 960 960\">\n",
              "    <path d=\"M120-120v-720h720v720H120Zm60-500h600v-160H180v160Zm220 220h160v-160H400v160Zm0 220h160v-160H400v160ZM180-400h160v-160H180v160Zm440 0h160v-160H620v160ZM180-180h160v-160H180v160Zm440 0h160v-160H620v160Z\"/>\n",
              "  </svg>\n",
              "    </button>\n",
              "\n",
              "  <style>\n",
              "    .colab-df-container {\n",
              "      display:flex;\n",
              "      gap: 12px;\n",
              "    }\n",
              "\n",
              "    .colab-df-convert {\n",
              "      background-color: #E8F0FE;\n",
              "      border: none;\n",
              "      border-radius: 50%;\n",
              "      cursor: pointer;\n",
              "      display: none;\n",
              "      fill: #1967D2;\n",
              "      height: 32px;\n",
              "      padding: 0 0 0 0;\n",
              "      width: 32px;\n",
              "    }\n",
              "\n",
              "    .colab-df-convert:hover {\n",
              "      background-color: #E2EBFA;\n",
              "      box-shadow: 0px 1px 2px rgba(60, 64, 67, 0.3), 0px 1px 3px 1px rgba(60, 64, 67, 0.15);\n",
              "      fill: #174EA6;\n",
              "    }\n",
              "\n",
              "    .colab-df-buttons div {\n",
              "      margin-bottom: 4px;\n",
              "    }\n",
              "\n",
              "    [theme=dark] .colab-df-convert {\n",
              "      background-color: #3B4455;\n",
              "      fill: #D2E3FC;\n",
              "    }\n",
              "\n",
              "    [theme=dark] .colab-df-convert:hover {\n",
              "      background-color: #434B5C;\n",
              "      box-shadow: 0px 1px 3px 1px rgba(0, 0, 0, 0.15);\n",
              "      filter: drop-shadow(0px 1px 2px rgba(0, 0, 0, 0.3));\n",
              "      fill: #FFFFFF;\n",
              "    }\n",
              "  </style>\n",
              "\n",
              "    <script>\n",
              "      const buttonEl =\n",
              "        document.querySelector('#df-ff270b58-bf12-43f6-8804-9d74905c0cd9 button.colab-df-convert');\n",
              "      buttonEl.style.display =\n",
              "        google.colab.kernel.accessAllowed ? 'block' : 'none';\n",
              "\n",
              "      async function convertToInteractive(key) {\n",
              "        const element = document.querySelector('#df-ff270b58-bf12-43f6-8804-9d74905c0cd9');\n",
              "        const dataTable =\n",
              "          await google.colab.kernel.invokeFunction('convertToInteractive',\n",
              "                                                    [key], {});\n",
              "        if (!dataTable) return;\n",
              "\n",
              "        const docLinkHtml = 'Like what you see? Visit the ' +\n",
              "          '<a target=\"_blank\" href=https://colab.research.google.com/notebooks/data_table.ipynb>data table notebook</a>'\n",
              "          + ' to learn more about interactive tables.';\n",
              "        element.innerHTML = '';\n",
              "        dataTable['output_type'] = 'display_data';\n",
              "        await google.colab.output.renderOutput(dataTable, element);\n",
              "        const docLink = document.createElement('div');\n",
              "        docLink.innerHTML = docLinkHtml;\n",
              "        element.appendChild(docLink);\n",
              "      }\n",
              "    </script>\n",
              "  </div>\n",
              "\n",
              "\n",
              "  <div id=\"id_4ac721fb-1213-4966-9eb7-0833aabd8f1b\">\n",
              "    <style>\n",
              "      .colab-df-generate {\n",
              "        background-color: #E8F0FE;\n",
              "        border: none;\n",
              "        border-radius: 50%;\n",
              "        cursor: pointer;\n",
              "        display: none;\n",
              "        fill: #1967D2;\n",
              "        height: 32px;\n",
              "        padding: 0 0 0 0;\n",
              "        width: 32px;\n",
              "      }\n",
              "\n",
              "      .colab-df-generate:hover {\n",
              "        background-color: #E2EBFA;\n",
              "        box-shadow: 0px 1px 2px rgba(60, 64, 67, 0.3), 0px 1px 3px 1px rgba(60, 64, 67, 0.15);\n",
              "        fill: #174EA6;\n",
              "      }\n",
              "\n",
              "      [theme=dark] .colab-df-generate {\n",
              "        background-color: #3B4455;\n",
              "        fill: #D2E3FC;\n",
              "      }\n",
              "\n",
              "      [theme=dark] .colab-df-generate:hover {\n",
              "        background-color: #434B5C;\n",
              "        box-shadow: 0px 1px 3px 1px rgba(0, 0, 0, 0.15);\n",
              "        filter: drop-shadow(0px 1px 2px rgba(0, 0, 0, 0.3));\n",
              "        fill: #FFFFFF;\n",
              "      }\n",
              "    </style>\n",
              "    <button class=\"colab-df-generate\" onclick=\"generateWithVariable('coef_df_2')\"\n",
              "            title=\"Generate code using this dataframe.\"\n",
              "            style=\"display:none;\">\n",
              "\n",
              "  <svg xmlns=\"http://www.w3.org/2000/svg\" height=\"24px\"viewBox=\"0 0 24 24\"\n",
              "       width=\"24px\">\n",
              "    <path d=\"M7,19H8.4L18.45,9,17,7.55,7,17.6ZM5,21V16.75L18.45,3.32a2,2,0,0,1,2.83,0l1.4,1.43a1.91,1.91,0,0,1,.58,1.4,1.91,1.91,0,0,1-.58,1.4L9.25,21ZM18.45,9,17,7.55Zm-12,3A5.31,5.31,0,0,0,4.9,8.1,5.31,5.31,0,0,0,1,6.5,5.31,5.31,0,0,0,4.9,4.9,5.31,5.31,0,0,0,6.5,1,5.31,5.31,0,0,0,8.1,4.9,5.31,5.31,0,0,0,12,6.5,5.46,5.46,0,0,0,6.5,12Z\"/>\n",
              "  </svg>\n",
              "    </button>\n",
              "    <script>\n",
              "      (() => {\n",
              "      const buttonEl =\n",
              "        document.querySelector('#id_4ac721fb-1213-4966-9eb7-0833aabd8f1b button.colab-df-generate');\n",
              "      buttonEl.style.display =\n",
              "        google.colab.kernel.accessAllowed ? 'block' : 'none';\n",
              "\n",
              "      buttonEl.onclick = () => {\n",
              "        google.colab.notebook.generateWithVariable('coef_df_2');\n",
              "      }\n",
              "      })();\n",
              "    </script>\n",
              "  </div>\n",
              "\n",
              "    </div>\n",
              "  </div>\n"
            ],
            "application/vnd.google.colaboratory.intrinsic+json": {
              "type": "dataframe",
              "variable_name": "coef_df_2"
            }
          },
          "metadata": {},
          "execution_count": 164
        }
      ]
    },
    {
      "cell_type": "markdown",
      "source": [
        "# PCA Transformation"
      ],
      "metadata": {
        "id": "6Vl6me2fbFbu"
      }
    },
    {
      "cell_type": "code",
      "source": [
        "# Extract authoritarianism and populism variables\n",
        "authoritarianism_variables = new_combined_df_demo[['V21_t', 'V66_t', 'V69_t', 'V127_t', 'V128_t', 'V135_t', 'V138_t']]\n",
        "\n",
        "nativism_variables = new_combined_df_demo[['V37_t', 'V39_t', 'V41_t', 'V44_t', 'V46_t', 'V106_t', 'V107_t', 'V154_t']]\n",
        "\n",
        "genre_variables = new_combined_df_demo[['V40_t', 'V45_t', 'V47_t', 'V50_t', 'V51_t', 'V52_t', 'V53_t', 'V54_t', 'V139_t']]\n",
        "\n",
        "populism_variables = new_combined_df_demo[['V98_t', 'V109_t', 'V110_t','V113_t',\n",
        "                     'V114_t', 'V115_t', 'V116_t', 'V117_t', 'V119_t',\n",
        "                     'V120_t','V121_t', 'V126_t']]\n",
        "\n",
        "# Apply PCA for authoritarianism variables\n",
        "pca_authoritarianism = PCA(n_components=1)\n",
        "authoritarianism_component = pca_authoritarianism.fit_transform(authoritarianism_variables)\n",
        "\n",
        "# Apply PCA for authoritarianism variables\n",
        "pca_nativism = PCA(n_components=1)\n",
        "nativism_component = pca_nativism.fit_transform(nativism_variables)\n",
        "\n",
        "# Apply PCA for authoritarianism variables\n",
        "pca_genre = PCA(n_components=1)\n",
        "genre_component = pca_authoritarianism.fit_transform(genre_variables)\n",
        "\n",
        "# Apply PCA for populism variables\n",
        "pca_populism = PCA(n_components=1)\n",
        "populism_component = pca_populism.fit_transform(populism_variables)\n",
        "\n",
        "# Add the PCA components to the dataframe\n",
        "new_combined_df_demo['authoritarianism_component'] = authoritarianism_component\n",
        "new_combined_df_demo['nativismm_component'] = nativism_component\n",
        "new_combined_df_demo['genre_component'] = genre_component\n",
        "new_combined_df_demo['populism_component'] = populism_component"
      ],
      "metadata": {
        "id": "FDgpoprFbFbv"
      },
      "execution_count": null,
      "outputs": []
    },
    {
      "cell_type": "markdown",
      "source": [
        "# Third trial: Standarizing values and creating new scales and performing the Logistic Regression. Acurracy = ?"
      ],
      "metadata": {
        "id": "cUY8nZd67j1W"
      }
    },
    {
      "cell_type": "code",
      "source": [
        "new_df_feat = new_combined_df_demo[['authoritarianism_component',\n",
        "             'populism_component', 'nativismm_component', 'genre_component',\n",
        "             'V95', 'V57_married', 'V57_separated_divorced_widowed',\n",
        "             'V58_children', 'unemployed', 'second_halve', 'male',\n",
        "             'V241_boomer', 'V241_generation_x', 'V241_millennial',\n",
        "             'university_education', 'prr_vote']]"
      ],
      "metadata": {
        "id": "d2HqY6gbYgZz"
      },
      "execution_count": null,
      "outputs": []
    },
    {
      "cell_type": "code",
      "source": [
        "new_df_feat"
      ],
      "metadata": {
        "colab": {
          "base_uri": "https://localhost:8080/",
          "height": 443
        },
        "id": "6OseM4cYuqOo",
        "outputId": "62baa801-5128-4450-aff9-8794dcf379fa"
      },
      "execution_count": null,
      "outputs": [
        {
          "output_type": "execute_result",
          "data": {
            "text/plain": [
              "      authoritarianism_component  populism_component  nativismm_component  \\\n",
              "0                       1.520585           -1.860120             2.916855   \n",
              "1                       1.423271            2.099673             0.719908   \n",
              "2                       0.672526           -3.707347             3.420048   \n",
              "3                       0.772472           -0.148035             2.017882   \n",
              "4                       1.595456            2.504520             2.041588   \n",
              "...                          ...                 ...                  ...   \n",
              "8457                    0.005918           -1.424791             0.905271   \n",
              "8458                    0.247706           -4.913211             0.802754   \n",
              "8459                    2.121760            1.593020             3.957081   \n",
              "8460                    1.097104            4.223507             0.480301   \n",
              "8461                    2.121539            3.307404             1.704513   \n",
              "\n",
              "      genre_component       V95  V57_married  V57_separated_divorced_widowed  \\\n",
              "0            1.893115  1.498367            1                               0   \n",
              "1            1.470705 -0.237378            1                               0   \n",
              "2            0.134114  1.064431            0                               0   \n",
              "3            1.296240  1.064431            1                               0   \n",
              "4            1.555716  1.932303            0                               1   \n",
              "...               ...       ...          ...                             ...   \n",
              "8457         1.517462  0.630495            1                               0   \n",
              "8458         0.535767  0.196558            0                               0   \n",
              "8459         2.727905 -0.237378            1                               0   \n",
              "8460         2.554733 -0.237378            0                               1   \n",
              "8461         3.726084 -0.237378            1                               0   \n",
              "\n",
              "      V58_children  unemployed  second_halve  male  V241_boomer  \\\n",
              "0                1           0             1     0            1   \n",
              "1                1           1             0     0            1   \n",
              "2                0           0             0     0            0   \n",
              "3                1           0             0     1            0   \n",
              "4                1           0             0     0            0   \n",
              "...            ...         ...           ...   ...          ...   \n",
              "8457             1           0             0     1            1   \n",
              "8458             0           1             0     0            0   \n",
              "8459             1           0             0     1            1   \n",
              "8460             1           0             0     1            1   \n",
              "8461             1           0             0     0            1   \n",
              "\n",
              "      V241_generation_x  V241_millennial  university_education  prr_vote  \n",
              "0                     0                0                     0         0  \n",
              "1                     0                0                     0         0  \n",
              "2                     0                1                     1         0  \n",
              "3                     0                0                     0         0  \n",
              "4                     0                0                     1         0  \n",
              "...                 ...              ...                   ...       ...  \n",
              "8457                  0                0                     0         0  \n",
              "8458                  0                1                     0         0  \n",
              "8459                  0                0                     0         0  \n",
              "8460                  0                0                     0         0  \n",
              "8461                  0                0                     1         1  \n",
              "\n",
              "[8462 rows x 16 columns]"
            ],
            "text/html": [
              "\n",
              "  <div id=\"df-b8189332-d0b8-44a9-bd77-0c13649f9529\" class=\"colab-df-container\">\n",
              "    <div>\n",
              "<style scoped>\n",
              "    .dataframe tbody tr th:only-of-type {\n",
              "        vertical-align: middle;\n",
              "    }\n",
              "\n",
              "    .dataframe tbody tr th {\n",
              "        vertical-align: top;\n",
              "    }\n",
              "\n",
              "    .dataframe thead th {\n",
              "        text-align: right;\n",
              "    }\n",
              "</style>\n",
              "<table border=\"1\" class=\"dataframe\">\n",
              "  <thead>\n",
              "    <tr style=\"text-align: right;\">\n",
              "      <th></th>\n",
              "      <th>authoritarianism_component</th>\n",
              "      <th>populism_component</th>\n",
              "      <th>nativismm_component</th>\n",
              "      <th>genre_component</th>\n",
              "      <th>V95</th>\n",
              "      <th>V57_married</th>\n",
              "      <th>V57_separated_divorced_widowed</th>\n",
              "      <th>V58_children</th>\n",
              "      <th>unemployed</th>\n",
              "      <th>second_halve</th>\n",
              "      <th>male</th>\n",
              "      <th>V241_boomer</th>\n",
              "      <th>V241_generation_x</th>\n",
              "      <th>V241_millennial</th>\n",
              "      <th>university_education</th>\n",
              "      <th>prr_vote</th>\n",
              "    </tr>\n",
              "  </thead>\n",
              "  <tbody>\n",
              "    <tr>\n",
              "      <th>0</th>\n",
              "      <td>1.520585</td>\n",
              "      <td>-1.860120</td>\n",
              "      <td>2.916855</td>\n",
              "      <td>1.893115</td>\n",
              "      <td>1.498367</td>\n",
              "      <td>1</td>\n",
              "      <td>0</td>\n",
              "      <td>1</td>\n",
              "      <td>0</td>\n",
              "      <td>1</td>\n",
              "      <td>0</td>\n",
              "      <td>1</td>\n",
              "      <td>0</td>\n",
              "      <td>0</td>\n",
              "      <td>0</td>\n",
              "      <td>0</td>\n",
              "    </tr>\n",
              "    <tr>\n",
              "      <th>1</th>\n",
              "      <td>1.423271</td>\n",
              "      <td>2.099673</td>\n",
              "      <td>0.719908</td>\n",
              "      <td>1.470705</td>\n",
              "      <td>-0.237378</td>\n",
              "      <td>1</td>\n",
              "      <td>0</td>\n",
              "      <td>1</td>\n",
              "      <td>1</td>\n",
              "      <td>0</td>\n",
              "      <td>0</td>\n",
              "      <td>1</td>\n",
              "      <td>0</td>\n",
              "      <td>0</td>\n",
              "      <td>0</td>\n",
              "      <td>0</td>\n",
              "    </tr>\n",
              "    <tr>\n",
              "      <th>2</th>\n",
              "      <td>0.672526</td>\n",
              "      <td>-3.707347</td>\n",
              "      <td>3.420048</td>\n",
              "      <td>0.134114</td>\n",
              "      <td>1.064431</td>\n",
              "      <td>0</td>\n",
              "      <td>0</td>\n",
              "      <td>0</td>\n",
              "      <td>0</td>\n",
              "      <td>0</td>\n",
              "      <td>0</td>\n",
              "      <td>0</td>\n",
              "      <td>0</td>\n",
              "      <td>1</td>\n",
              "      <td>1</td>\n",
              "      <td>0</td>\n",
              "    </tr>\n",
              "    <tr>\n",
              "      <th>3</th>\n",
              "      <td>0.772472</td>\n",
              "      <td>-0.148035</td>\n",
              "      <td>2.017882</td>\n",
              "      <td>1.296240</td>\n",
              "      <td>1.064431</td>\n",
              "      <td>1</td>\n",
              "      <td>0</td>\n",
              "      <td>1</td>\n",
              "      <td>0</td>\n",
              "      <td>0</td>\n",
              "      <td>1</td>\n",
              "      <td>0</td>\n",
              "      <td>0</td>\n",
              "      <td>0</td>\n",
              "      <td>0</td>\n",
              "      <td>0</td>\n",
              "    </tr>\n",
              "    <tr>\n",
              "      <th>4</th>\n",
              "      <td>1.595456</td>\n",
              "      <td>2.504520</td>\n",
              "      <td>2.041588</td>\n",
              "      <td>1.555716</td>\n",
              "      <td>1.932303</td>\n",
              "      <td>0</td>\n",
              "      <td>1</td>\n",
              "      <td>1</td>\n",
              "      <td>0</td>\n",
              "      <td>0</td>\n",
              "      <td>0</td>\n",
              "      <td>0</td>\n",
              "      <td>0</td>\n",
              "      <td>0</td>\n",
              "      <td>1</td>\n",
              "      <td>0</td>\n",
              "    </tr>\n",
              "    <tr>\n",
              "      <th>...</th>\n",
              "      <td>...</td>\n",
              "      <td>...</td>\n",
              "      <td>...</td>\n",
              "      <td>...</td>\n",
              "      <td>...</td>\n",
              "      <td>...</td>\n",
              "      <td>...</td>\n",
              "      <td>...</td>\n",
              "      <td>...</td>\n",
              "      <td>...</td>\n",
              "      <td>...</td>\n",
              "      <td>...</td>\n",
              "      <td>...</td>\n",
              "      <td>...</td>\n",
              "      <td>...</td>\n",
              "      <td>...</td>\n",
              "    </tr>\n",
              "    <tr>\n",
              "      <th>8457</th>\n",
              "      <td>0.005918</td>\n",
              "      <td>-1.424791</td>\n",
              "      <td>0.905271</td>\n",
              "      <td>1.517462</td>\n",
              "      <td>0.630495</td>\n",
              "      <td>1</td>\n",
              "      <td>0</td>\n",
              "      <td>1</td>\n",
              "      <td>0</td>\n",
              "      <td>0</td>\n",
              "      <td>1</td>\n",
              "      <td>1</td>\n",
              "      <td>0</td>\n",
              "      <td>0</td>\n",
              "      <td>0</td>\n",
              "      <td>0</td>\n",
              "    </tr>\n",
              "    <tr>\n",
              "      <th>8458</th>\n",
              "      <td>0.247706</td>\n",
              "      <td>-4.913211</td>\n",
              "      <td>0.802754</td>\n",
              "      <td>0.535767</td>\n",
              "      <td>0.196558</td>\n",
              "      <td>0</td>\n",
              "      <td>0</td>\n",
              "      <td>0</td>\n",
              "      <td>1</td>\n",
              "      <td>0</td>\n",
              "      <td>0</td>\n",
              "      <td>0</td>\n",
              "      <td>0</td>\n",
              "      <td>1</td>\n",
              "      <td>0</td>\n",
              "      <td>0</td>\n",
              "    </tr>\n",
              "    <tr>\n",
              "      <th>8459</th>\n",
              "      <td>2.121760</td>\n",
              "      <td>1.593020</td>\n",
              "      <td>3.957081</td>\n",
              "      <td>2.727905</td>\n",
              "      <td>-0.237378</td>\n",
              "      <td>1</td>\n",
              "      <td>0</td>\n",
              "      <td>1</td>\n",
              "      <td>0</td>\n",
              "      <td>0</td>\n",
              "      <td>1</td>\n",
              "      <td>1</td>\n",
              "      <td>0</td>\n",
              "      <td>0</td>\n",
              "      <td>0</td>\n",
              "      <td>0</td>\n",
              "    </tr>\n",
              "    <tr>\n",
              "      <th>8460</th>\n",
              "      <td>1.097104</td>\n",
              "      <td>4.223507</td>\n",
              "      <td>0.480301</td>\n",
              "      <td>2.554733</td>\n",
              "      <td>-0.237378</td>\n",
              "      <td>0</td>\n",
              "      <td>1</td>\n",
              "      <td>1</td>\n",
              "      <td>0</td>\n",
              "      <td>0</td>\n",
              "      <td>1</td>\n",
              "      <td>1</td>\n",
              "      <td>0</td>\n",
              "      <td>0</td>\n",
              "      <td>0</td>\n",
              "      <td>0</td>\n",
              "    </tr>\n",
              "    <tr>\n",
              "      <th>8461</th>\n",
              "      <td>2.121539</td>\n",
              "      <td>3.307404</td>\n",
              "      <td>1.704513</td>\n",
              "      <td>3.726084</td>\n",
              "      <td>-0.237378</td>\n",
              "      <td>1</td>\n",
              "      <td>0</td>\n",
              "      <td>1</td>\n",
              "      <td>0</td>\n",
              "      <td>0</td>\n",
              "      <td>0</td>\n",
              "      <td>1</td>\n",
              "      <td>0</td>\n",
              "      <td>0</td>\n",
              "      <td>1</td>\n",
              "      <td>1</td>\n",
              "    </tr>\n",
              "  </tbody>\n",
              "</table>\n",
              "<p>8462 rows × 16 columns</p>\n",
              "</div>\n",
              "    <div class=\"colab-df-buttons\">\n",
              "\n",
              "  <div class=\"colab-df-container\">\n",
              "    <button class=\"colab-df-convert\" onclick=\"convertToInteractive('df-b8189332-d0b8-44a9-bd77-0c13649f9529')\"\n",
              "            title=\"Convert this dataframe to an interactive table.\"\n",
              "            style=\"display:none;\">\n",
              "\n",
              "  <svg xmlns=\"http://www.w3.org/2000/svg\" height=\"24px\" viewBox=\"0 -960 960 960\">\n",
              "    <path d=\"M120-120v-720h720v720H120Zm60-500h600v-160H180v160Zm220 220h160v-160H400v160Zm0 220h160v-160H400v160ZM180-400h160v-160H180v160Zm440 0h160v-160H620v160ZM180-180h160v-160H180v160Zm440 0h160v-160H620v160Z\"/>\n",
              "  </svg>\n",
              "    </button>\n",
              "\n",
              "  <style>\n",
              "    .colab-df-container {\n",
              "      display:flex;\n",
              "      gap: 12px;\n",
              "    }\n",
              "\n",
              "    .colab-df-convert {\n",
              "      background-color: #E8F0FE;\n",
              "      border: none;\n",
              "      border-radius: 50%;\n",
              "      cursor: pointer;\n",
              "      display: none;\n",
              "      fill: #1967D2;\n",
              "      height: 32px;\n",
              "      padding: 0 0 0 0;\n",
              "      width: 32px;\n",
              "    }\n",
              "\n",
              "    .colab-df-convert:hover {\n",
              "      background-color: #E2EBFA;\n",
              "      box-shadow: 0px 1px 2px rgba(60, 64, 67, 0.3), 0px 1px 3px 1px rgba(60, 64, 67, 0.15);\n",
              "      fill: #174EA6;\n",
              "    }\n",
              "\n",
              "    .colab-df-buttons div {\n",
              "      margin-bottom: 4px;\n",
              "    }\n",
              "\n",
              "    [theme=dark] .colab-df-convert {\n",
              "      background-color: #3B4455;\n",
              "      fill: #D2E3FC;\n",
              "    }\n",
              "\n",
              "    [theme=dark] .colab-df-convert:hover {\n",
              "      background-color: #434B5C;\n",
              "      box-shadow: 0px 1px 3px 1px rgba(0, 0, 0, 0.15);\n",
              "      filter: drop-shadow(0px 1px 2px rgba(0, 0, 0, 0.3));\n",
              "      fill: #FFFFFF;\n",
              "    }\n",
              "  </style>\n",
              "\n",
              "    <script>\n",
              "      const buttonEl =\n",
              "        document.querySelector('#df-b8189332-d0b8-44a9-bd77-0c13649f9529 button.colab-df-convert');\n",
              "      buttonEl.style.display =\n",
              "        google.colab.kernel.accessAllowed ? 'block' : 'none';\n",
              "\n",
              "      async function convertToInteractive(key) {\n",
              "        const element = document.querySelector('#df-b8189332-d0b8-44a9-bd77-0c13649f9529');\n",
              "        const dataTable =\n",
              "          await google.colab.kernel.invokeFunction('convertToInteractive',\n",
              "                                                    [key], {});\n",
              "        if (!dataTable) return;\n",
              "\n",
              "        const docLinkHtml = 'Like what you see? Visit the ' +\n",
              "          '<a target=\"_blank\" href=https://colab.research.google.com/notebooks/data_table.ipynb>data table notebook</a>'\n",
              "          + ' to learn more about interactive tables.';\n",
              "        element.innerHTML = '';\n",
              "        dataTable['output_type'] = 'display_data';\n",
              "        await google.colab.output.renderOutput(dataTable, element);\n",
              "        const docLink = document.createElement('div');\n",
              "        docLink.innerHTML = docLinkHtml;\n",
              "        element.appendChild(docLink);\n",
              "      }\n",
              "    </script>\n",
              "  </div>\n",
              "\n",
              "\n",
              "<div id=\"df-03dd91af-e1a0-429f-a311-3ce332222c5b\">\n",
              "  <button class=\"colab-df-quickchart\" onclick=\"quickchart('df-03dd91af-e1a0-429f-a311-3ce332222c5b')\"\n",
              "            title=\"Suggest charts\"\n",
              "            style=\"display:none;\">\n",
              "\n",
              "<svg xmlns=\"http://www.w3.org/2000/svg\" height=\"24px\"viewBox=\"0 0 24 24\"\n",
              "     width=\"24px\">\n",
              "    <g>\n",
              "        <path d=\"M19 3H5c-1.1 0-2 .9-2 2v14c0 1.1.9 2 2 2h14c1.1 0 2-.9 2-2V5c0-1.1-.9-2-2-2zM9 17H7v-7h2v7zm4 0h-2V7h2v10zm4 0h-2v-4h2v4z\"/>\n",
              "    </g>\n",
              "</svg>\n",
              "  </button>\n",
              "\n",
              "<style>\n",
              "  .colab-df-quickchart {\n",
              "      --bg-color: #E8F0FE;\n",
              "      --fill-color: #1967D2;\n",
              "      --hover-bg-color: #E2EBFA;\n",
              "      --hover-fill-color: #174EA6;\n",
              "      --disabled-fill-color: #AAA;\n",
              "      --disabled-bg-color: #DDD;\n",
              "  }\n",
              "\n",
              "  [theme=dark] .colab-df-quickchart {\n",
              "      --bg-color: #3B4455;\n",
              "      --fill-color: #D2E3FC;\n",
              "      --hover-bg-color: #434B5C;\n",
              "      --hover-fill-color: #FFFFFF;\n",
              "      --disabled-bg-color: #3B4455;\n",
              "      --disabled-fill-color: #666;\n",
              "  }\n",
              "\n",
              "  .colab-df-quickchart {\n",
              "    background-color: var(--bg-color);\n",
              "    border: none;\n",
              "    border-radius: 50%;\n",
              "    cursor: pointer;\n",
              "    display: none;\n",
              "    fill: var(--fill-color);\n",
              "    height: 32px;\n",
              "    padding: 0;\n",
              "    width: 32px;\n",
              "  }\n",
              "\n",
              "  .colab-df-quickchart:hover {\n",
              "    background-color: var(--hover-bg-color);\n",
              "    box-shadow: 0 1px 2px rgba(60, 64, 67, 0.3), 0 1px 3px 1px rgba(60, 64, 67, 0.15);\n",
              "    fill: var(--button-hover-fill-color);\n",
              "  }\n",
              "\n",
              "  .colab-df-quickchart-complete:disabled,\n",
              "  .colab-df-quickchart-complete:disabled:hover {\n",
              "    background-color: var(--disabled-bg-color);\n",
              "    fill: var(--disabled-fill-color);\n",
              "    box-shadow: none;\n",
              "  }\n",
              "\n",
              "  .colab-df-spinner {\n",
              "    border: 2px solid var(--fill-color);\n",
              "    border-color: transparent;\n",
              "    border-bottom-color: var(--fill-color);\n",
              "    animation:\n",
              "      spin 1s steps(1) infinite;\n",
              "  }\n",
              "\n",
              "  @keyframes spin {\n",
              "    0% {\n",
              "      border-color: transparent;\n",
              "      border-bottom-color: var(--fill-color);\n",
              "      border-left-color: var(--fill-color);\n",
              "    }\n",
              "    20% {\n",
              "      border-color: transparent;\n",
              "      border-left-color: var(--fill-color);\n",
              "      border-top-color: var(--fill-color);\n",
              "    }\n",
              "    30% {\n",
              "      border-color: transparent;\n",
              "      border-left-color: var(--fill-color);\n",
              "      border-top-color: var(--fill-color);\n",
              "      border-right-color: var(--fill-color);\n",
              "    }\n",
              "    40% {\n",
              "      border-color: transparent;\n",
              "      border-right-color: var(--fill-color);\n",
              "      border-top-color: var(--fill-color);\n",
              "    }\n",
              "    60% {\n",
              "      border-color: transparent;\n",
              "      border-right-color: var(--fill-color);\n",
              "    }\n",
              "    80% {\n",
              "      border-color: transparent;\n",
              "      border-right-color: var(--fill-color);\n",
              "      border-bottom-color: var(--fill-color);\n",
              "    }\n",
              "    90% {\n",
              "      border-color: transparent;\n",
              "      border-bottom-color: var(--fill-color);\n",
              "    }\n",
              "  }\n",
              "</style>\n",
              "\n",
              "  <script>\n",
              "    async function quickchart(key) {\n",
              "      const quickchartButtonEl =\n",
              "        document.querySelector('#' + key + ' button');\n",
              "      quickchartButtonEl.disabled = true;  // To prevent multiple clicks.\n",
              "      quickchartButtonEl.classList.add('colab-df-spinner');\n",
              "      try {\n",
              "        const charts = await google.colab.kernel.invokeFunction(\n",
              "            'suggestCharts', [key], {});\n",
              "      } catch (error) {\n",
              "        console.error('Error during call to suggestCharts:', error);\n",
              "      }\n",
              "      quickchartButtonEl.classList.remove('colab-df-spinner');\n",
              "      quickchartButtonEl.classList.add('colab-df-quickchart-complete');\n",
              "    }\n",
              "    (() => {\n",
              "      let quickchartButtonEl =\n",
              "        document.querySelector('#df-03dd91af-e1a0-429f-a311-3ce332222c5b button');\n",
              "      quickchartButtonEl.style.display =\n",
              "        google.colab.kernel.accessAllowed ? 'block' : 'none';\n",
              "    })();\n",
              "  </script>\n",
              "</div>\n",
              "\n",
              "  <div id=\"id_5e72c372-d959-4393-8cd2-2f6444157ead\">\n",
              "    <style>\n",
              "      .colab-df-generate {\n",
              "        background-color: #E8F0FE;\n",
              "        border: none;\n",
              "        border-radius: 50%;\n",
              "        cursor: pointer;\n",
              "        display: none;\n",
              "        fill: #1967D2;\n",
              "        height: 32px;\n",
              "        padding: 0 0 0 0;\n",
              "        width: 32px;\n",
              "      }\n",
              "\n",
              "      .colab-df-generate:hover {\n",
              "        background-color: #E2EBFA;\n",
              "        box-shadow: 0px 1px 2px rgba(60, 64, 67, 0.3), 0px 1px 3px 1px rgba(60, 64, 67, 0.15);\n",
              "        fill: #174EA6;\n",
              "      }\n",
              "\n",
              "      [theme=dark] .colab-df-generate {\n",
              "        background-color: #3B4455;\n",
              "        fill: #D2E3FC;\n",
              "      }\n",
              "\n",
              "      [theme=dark] .colab-df-generate:hover {\n",
              "        background-color: #434B5C;\n",
              "        box-shadow: 0px 1px 3px 1px rgba(0, 0, 0, 0.15);\n",
              "        filter: drop-shadow(0px 1px 2px rgba(0, 0, 0, 0.3));\n",
              "        fill: #FFFFFF;\n",
              "      }\n",
              "    </style>\n",
              "    <button class=\"colab-df-generate\" onclick=\"generateWithVariable('new_df_feat')\"\n",
              "            title=\"Generate code using this dataframe.\"\n",
              "            style=\"display:none;\">\n",
              "\n",
              "  <svg xmlns=\"http://www.w3.org/2000/svg\" height=\"24px\"viewBox=\"0 0 24 24\"\n",
              "       width=\"24px\">\n",
              "    <path d=\"M7,19H8.4L18.45,9,17,7.55,7,17.6ZM5,21V16.75L18.45,3.32a2,2,0,0,1,2.83,0l1.4,1.43a1.91,1.91,0,0,1,.58,1.4,1.91,1.91,0,0,1-.58,1.4L9.25,21ZM18.45,9,17,7.55Zm-12,3A5.31,5.31,0,0,0,4.9,8.1,5.31,5.31,0,0,0,1,6.5,5.31,5.31,0,0,0,4.9,4.9,5.31,5.31,0,0,0,6.5,1,5.31,5.31,0,0,0,8.1,4.9,5.31,5.31,0,0,0,12,6.5,5.46,5.46,0,0,0,6.5,12Z\"/>\n",
              "  </svg>\n",
              "    </button>\n",
              "    <script>\n",
              "      (() => {\n",
              "      const buttonEl =\n",
              "        document.querySelector('#id_5e72c372-d959-4393-8cd2-2f6444157ead button.colab-df-generate');\n",
              "      buttonEl.style.display =\n",
              "        google.colab.kernel.accessAllowed ? 'block' : 'none';\n",
              "\n",
              "      buttonEl.onclick = () => {\n",
              "        google.colab.notebook.generateWithVariable('new_df_feat');\n",
              "      }\n",
              "      })();\n",
              "    </script>\n",
              "  </div>\n",
              "\n",
              "    </div>\n",
              "  </div>\n"
            ],
            "application/vnd.google.colaboratory.intrinsic+json": {
              "type": "dataframe",
              "variable_name": "new_df_feat",
              "summary": "{\n  \"name\": \"new_df_feat\",\n  \"rows\": 8462,\n  \"fields\": [\n    {\n      \"column\": \"authoritarianism_component\",\n      \"properties\": {\n        \"dtype\": \"number\",\n        \"std\": 1.3400160391730964,\n        \"min\": -3.261007726260854,\n        \"max\": 3.823946286531045,\n        \"num_unique_values\": 4493,\n        \"samples\": [\n          0.2073613362007333,\n          -0.8922135210955059,\n          -0.7664891596175126\n        ],\n        \"semantic_type\": \"\",\n        \"description\": \"\"\n      }\n    },\n    {\n      \"column\": \"populism_component\",\n      \"properties\": {\n        \"dtype\": \"number\",\n        \"std\": 2.0834448467893925,\n        \"min\": -6.020099371547211,\n        \"max\": 6.4298881858913255,\n        \"num_unique_values\": 7278,\n        \"samples\": [\n          1.9418842970973282,\n          1.9317514495457715,\n          -2.8107321251797885\n        ],\n        \"semantic_type\": \"\",\n        \"description\": \"\"\n      }\n    },\n    {\n      \"column\": \"nativismm_component\",\n      \"properties\": {\n        \"dtype\": \"number\",\n        \"std\": 1.675476526751232,\n        \"min\": -2.929694407815615,\n        \"max\": 5.473122979474859,\n        \"num_unique_values\": 1017,\n        \"samples\": [\n          1.0423605379019665,\n          2.0778113778221,\n          1.8007572856247975\n        ],\n        \"semantic_type\": \"\",\n        \"description\": \"\"\n      }\n    },\n    {\n      \"column\": \"genre_component\",\n      \"properties\": {\n        \"dtype\": \"number\",\n        \"std\": 1.7376118131723783,\n        \"min\": -3.2800490981419013,\n        \"max\": 5.820416981642133,\n        \"num_unique_values\": 4719,\n        \"samples\": [\n          1.2686737020162024,\n          -1.8211894745439197,\n          -0.6493370863078648\n        ],\n        \"semantic_type\": \"\",\n        \"description\": \"\"\n      }\n    },\n    {\n      \"column\": \"V95\",\n      \"properties\": {\n        \"dtype\": \"number\",\n        \"std\": 1.000059092923674,\n        \"min\": -1.9731225100357472,\n        \"max\": 1.9323031759403535,\n        \"num_unique_values\": 10,\n        \"samples\": [\n          0.63049461394832,\n          -0.23737776071303573,\n          -1.1052501353743915\n        ],\n        \"semantic_type\": \"\",\n        \"description\": \"\"\n      }\n    },\n    {\n      \"column\": \"V57_married\",\n      \"properties\": {\n        \"dtype\": \"uint8\",\n        \"num_unique_values\": 2,\n        \"samples\": [\n          0,\n          1\n        ],\n        \"semantic_type\": \"\",\n        \"description\": \"\"\n      }\n    },\n    {\n      \"column\": \"V57_separated_divorced_widowed\",\n      \"properties\": {\n        \"dtype\": \"uint8\",\n        \"num_unique_values\": 2,\n        \"samples\": [\n          1,\n          0\n        ],\n        \"semantic_type\": \"\",\n        \"description\": \"\"\n      }\n    },\n    {\n      \"column\": \"V58_children\",\n      \"properties\": {\n        \"dtype\": \"uint8\",\n        \"num_unique_values\": 2,\n        \"samples\": [\n          0,\n          1\n        ],\n        \"semantic_type\": \"\",\n        \"description\": \"\"\n      }\n    },\n    {\n      \"column\": \"unemployed\",\n      \"properties\": {\n        \"dtype\": \"uint8\",\n        \"num_unique_values\": 2,\n        \"samples\": [\n          1,\n          0\n        ],\n        \"semantic_type\": \"\",\n        \"description\": \"\"\n      }\n    },\n    {\n      \"column\": \"second_halve\",\n      \"properties\": {\n        \"dtype\": \"uint8\",\n        \"num_unique_values\": 2,\n        \"samples\": [\n          0,\n          1\n        ],\n        \"semantic_type\": \"\",\n        \"description\": \"\"\n      }\n    },\n    {\n      \"column\": \"male\",\n      \"properties\": {\n        \"dtype\": \"uint8\",\n        \"num_unique_values\": 2,\n        \"samples\": [\n          1,\n          0\n        ],\n        \"semantic_type\": \"\",\n        \"description\": \"\"\n      }\n    },\n    {\n      \"column\": \"V241_boomer\",\n      \"properties\": {\n        \"dtype\": \"uint8\",\n        \"num_unique_values\": 2,\n        \"samples\": [\n          0,\n          1\n        ],\n        \"semantic_type\": \"\",\n        \"description\": \"\"\n      }\n    },\n    {\n      \"column\": \"V241_generation_x\",\n      \"properties\": {\n        \"dtype\": \"uint8\",\n        \"num_unique_values\": 2,\n        \"samples\": [\n          1,\n          0\n        ],\n        \"semantic_type\": \"\",\n        \"description\": \"\"\n      }\n    },\n    {\n      \"column\": \"V241_millennial\",\n      \"properties\": {\n        \"dtype\": \"uint8\",\n        \"num_unique_values\": 2,\n        \"samples\": [\n          1,\n          0\n        ],\n        \"semantic_type\": \"\",\n        \"description\": \"\"\n      }\n    },\n    {\n      \"column\": \"university_education\",\n      \"properties\": {\n        \"dtype\": \"uint8\",\n        \"num_unique_values\": 2,\n        \"samples\": [\n          1,\n          0\n        ],\n        \"semantic_type\": \"\",\n        \"description\": \"\"\n      }\n    },\n    {\n      \"column\": \"prr_vote\",\n      \"properties\": {\n        \"dtype\": \"number\",\n        \"std\": 0,\n        \"min\": 0,\n        \"max\": 1,\n        \"num_unique_values\": 2,\n        \"samples\": [\n          1,\n          0\n        ],\n        \"semantic_type\": \"\",\n        \"description\": \"\"\n      }\n    }\n  ]\n}"
            }
          },
          "metadata": {},
          "execution_count": 179
        }
      ]
    },
    {
      "cell_type": "code",
      "source": [
        "X_3 = new_df_feat.iloc[:, :-1]\n",
        "y_3 = new_df_feat['prr_vote']"
      ],
      "metadata": {
        "id": "cSjAacLpUMGF"
      },
      "execution_count": null,
      "outputs": []
    },
    {
      "cell_type": "code",
      "source": [
        "X_train_3, X_test_3, y_train_3, y_test_3 = train_test_split(X_3, y_3, test_size=0.25, random_state=101, stratify=y_3)"
      ],
      "metadata": {
        "id": "ig1j23_hU_aN"
      },
      "execution_count": null,
      "outputs": []
    },
    {
      "cell_type": "code",
      "source": [
        "'''undersampler = RandomUnderSampler(random_state=101)\n",
        "X_train_resampled_3, y_train_resampled_3 = undersampler.fit_resample(X_train_3, y_train_3)'''"
      ],
      "metadata": {
        "id": "x-X79M0jbZv6",
        "colab": {
          "base_uri": "https://localhost:8080/",
          "height": 35
        },
        "outputId": "c4e709db-ec9d-4d5f-ffb9-f15545f04608"
      },
      "execution_count": null,
      "outputs": [
        {
          "output_type": "execute_result",
          "data": {
            "text/plain": [
              "'undersampler = RandomUnderSampler(random_state=101)\\nX_train_resampled_3, y_train_resampled_3 = undersampler.fit_resample(X_train_3, y_train_3)'"
            ],
            "application/vnd.google.colaboratory.intrinsic+json": {
              "type": "string"
            }
          },
          "metadata": {},
          "execution_count": 169
        }
      ]
    },
    {
      "cell_type": "code",
      "source": [
        "logmodel_3 = LogisticRegression()"
      ],
      "metadata": {
        "id": "xjNnFEiITxJN"
      },
      "execution_count": null,
      "outputs": []
    },
    {
      "cell_type": "code",
      "source": [
        "logmodel_3.fit(X_train_3, y_train_3)"
      ],
      "metadata": {
        "colab": {
          "base_uri": "https://localhost:8080/",
          "height": 74
        },
        "id": "AL-OoE4iUJwF",
        "outputId": "42ee2aea-1997-4682-dde3-3c3b13e6f77a"
      },
      "execution_count": null,
      "outputs": [
        {
          "output_type": "execute_result",
          "data": {
            "text/plain": [
              "LogisticRegression()"
            ],
            "text/html": [
              "<style>#sk-container-id-9 {color: black;background-color: white;}#sk-container-id-9 pre{padding: 0;}#sk-container-id-9 div.sk-toggleable {background-color: white;}#sk-container-id-9 label.sk-toggleable__label {cursor: pointer;display: block;width: 100%;margin-bottom: 0;padding: 0.3em;box-sizing: border-box;text-align: center;}#sk-container-id-9 label.sk-toggleable__label-arrow:before {content: \"▸\";float: left;margin-right: 0.25em;color: #696969;}#sk-container-id-9 label.sk-toggleable__label-arrow:hover:before {color: black;}#sk-container-id-9 div.sk-estimator:hover label.sk-toggleable__label-arrow:before {color: black;}#sk-container-id-9 div.sk-toggleable__content {max-height: 0;max-width: 0;overflow: hidden;text-align: left;background-color: #f0f8ff;}#sk-container-id-9 div.sk-toggleable__content pre {margin: 0.2em;color: black;border-radius: 0.25em;background-color: #f0f8ff;}#sk-container-id-9 input.sk-toggleable__control:checked~div.sk-toggleable__content {max-height: 200px;max-width: 100%;overflow: auto;}#sk-container-id-9 input.sk-toggleable__control:checked~label.sk-toggleable__label-arrow:before {content: \"▾\";}#sk-container-id-9 div.sk-estimator input.sk-toggleable__control:checked~label.sk-toggleable__label {background-color: #d4ebff;}#sk-container-id-9 div.sk-label input.sk-toggleable__control:checked~label.sk-toggleable__label {background-color: #d4ebff;}#sk-container-id-9 input.sk-hidden--visually {border: 0;clip: rect(1px 1px 1px 1px);clip: rect(1px, 1px, 1px, 1px);height: 1px;margin: -1px;overflow: hidden;padding: 0;position: absolute;width: 1px;}#sk-container-id-9 div.sk-estimator {font-family: monospace;background-color: #f0f8ff;border: 1px dotted black;border-radius: 0.25em;box-sizing: border-box;margin-bottom: 0.5em;}#sk-container-id-9 div.sk-estimator:hover {background-color: #d4ebff;}#sk-container-id-9 div.sk-parallel-item::after {content: \"\";width: 100%;border-bottom: 1px solid gray;flex-grow: 1;}#sk-container-id-9 div.sk-label:hover label.sk-toggleable__label {background-color: #d4ebff;}#sk-container-id-9 div.sk-serial::before {content: \"\";position: absolute;border-left: 1px solid gray;box-sizing: border-box;top: 0;bottom: 0;left: 50%;z-index: 0;}#sk-container-id-9 div.sk-serial {display: flex;flex-direction: column;align-items: center;background-color: white;padding-right: 0.2em;padding-left: 0.2em;position: relative;}#sk-container-id-9 div.sk-item {position: relative;z-index: 1;}#sk-container-id-9 div.sk-parallel {display: flex;align-items: stretch;justify-content: center;background-color: white;position: relative;}#sk-container-id-9 div.sk-item::before, #sk-container-id-9 div.sk-parallel-item::before {content: \"\";position: absolute;border-left: 1px solid gray;box-sizing: border-box;top: 0;bottom: 0;left: 50%;z-index: -1;}#sk-container-id-9 div.sk-parallel-item {display: flex;flex-direction: column;z-index: 1;position: relative;background-color: white;}#sk-container-id-9 div.sk-parallel-item:first-child::after {align-self: flex-end;width: 50%;}#sk-container-id-9 div.sk-parallel-item:last-child::after {align-self: flex-start;width: 50%;}#sk-container-id-9 div.sk-parallel-item:only-child::after {width: 0;}#sk-container-id-9 div.sk-dashed-wrapped {border: 1px dashed gray;margin: 0 0.4em 0.5em 0.4em;box-sizing: border-box;padding-bottom: 0.4em;background-color: white;}#sk-container-id-9 div.sk-label label {font-family: monospace;font-weight: bold;display: inline-block;line-height: 1.2em;}#sk-container-id-9 div.sk-label-container {text-align: center;}#sk-container-id-9 div.sk-container {/* jupyter's `normalize.less` sets `[hidden] { display: none; }` but bootstrap.min.css set `[hidden] { display: none !important; }` so we also need the `!important` here to be able to override the default hidden behavior on the sphinx rendered scikit-learn.org. See: https://github.com/scikit-learn/scikit-learn/issues/21755 */display: inline-block !important;position: relative;}#sk-container-id-9 div.sk-text-repr-fallback {display: none;}</style><div id=\"sk-container-id-9\" class=\"sk-top-container\"><div class=\"sk-text-repr-fallback\"><pre>LogisticRegression()</pre><b>In a Jupyter environment, please rerun this cell to show the HTML representation or trust the notebook. <br />On GitHub, the HTML representation is unable to render, please try loading this page with nbviewer.org.</b></div><div class=\"sk-container\" hidden><div class=\"sk-item\"><div class=\"sk-estimator sk-toggleable\"><input class=\"sk-toggleable__control sk-hidden--visually\" id=\"sk-estimator-id-9\" type=\"checkbox\" checked><label for=\"sk-estimator-id-9\" class=\"sk-toggleable__label sk-toggleable__label-arrow\">LogisticRegression</label><div class=\"sk-toggleable__content\"><pre>LogisticRegression()</pre></div></div></div></div></div>"
            ]
          },
          "metadata": {},
          "execution_count": 171
        }
      ]
    },
    {
      "cell_type": "code",
      "source": [
        "y_pred_3 = logmodel_3.predict(X_test_3)"
      ],
      "metadata": {
        "id": "f7QoQ1SlVVi0"
      },
      "execution_count": null,
      "outputs": []
    },
    {
      "cell_type": "code",
      "source": [
        "print(classification_report(y_test_3,y_pred_3))"
      ],
      "metadata": {
        "colab": {
          "base_uri": "https://localhost:8080/"
        },
        "id": "X4d_ZmdnVbFY",
        "outputId": "b6f95887-2ae3-4c5d-e4d5-86cc366d37c9"
      },
      "execution_count": null,
      "outputs": [
        {
          "output_type": "stream",
          "name": "stdout",
          "text": [
            "              precision    recall  f1-score   support\n",
            "\n",
            "           0       0.88      1.00      0.93      1855\n",
            "           1       0.75      0.01      0.02       261\n",
            "\n",
            "    accuracy                           0.88      2116\n",
            "   macro avg       0.81      0.51      0.48      2116\n",
            "weighted avg       0.86      0.88      0.82      2116\n",
            "\n"
          ]
        }
      ]
    },
    {
      "cell_type": "code",
      "source": [
        "print(confusion_matrix(y_test_3,y_pred_3))"
      ],
      "metadata": {
        "colab": {
          "base_uri": "https://localhost:8080/"
        },
        "id": "RBCuMpmuVuQl",
        "outputId": "03b3f114-eea7-4586-c4ac-cf5a88eb1435"
      },
      "execution_count": null,
      "outputs": [
        {
          "output_type": "stream",
          "name": "stdout",
          "text": [
            "[[1854    1]\n",
            " [ 258    3]]\n"
          ]
        }
      ]
    },
    {
      "cell_type": "code",
      "source": [
        "coefficients_3 = logmodel_3.coef_\n",
        "coef_df_3 = pd.DataFrame(coefficients_3, columns=new_df_feat.iloc[:, :-1].columns)\n",
        "coef_df_3.head()"
      ],
      "metadata": {
        "colab": {
          "base_uri": "https://localhost:8080/",
          "height": 100
        },
        "id": "pxo5A03mVuaY",
        "outputId": "08865009-744e-4538-8434-ef85f244e1b5"
      },
      "execution_count": null,
      "outputs": [
        {
          "output_type": "execute_result",
          "data": {
            "text/plain": [
              "   authoritarianism_component  populism_component  nativismm_component  \\\n",
              "0                     0.12612           -0.172461             0.166672   \n",
              "\n",
              "   genre_component       V95  V57_married  V57_separated_divorced_widowed  \\\n",
              "0         0.068485  0.280558     0.096217                       -0.014411   \n",
              "\n",
              "   V58_children  unemployed  second_halve      male  V241_boomer  \\\n",
              "0      0.211299    0.334569     -0.365083 -0.037057     0.144571   \n",
              "\n",
              "   V241_generation_x  V241_millennial  university_education  \n",
              "0           0.264582         0.470945             -0.415001  "
            ],
            "text/html": [
              "\n",
              "  <div id=\"df-591c979e-7b4f-4748-ab24-1e8d1c77297e\" class=\"colab-df-container\">\n",
              "    <div>\n",
              "<style scoped>\n",
              "    .dataframe tbody tr th:only-of-type {\n",
              "        vertical-align: middle;\n",
              "    }\n",
              "\n",
              "    .dataframe tbody tr th {\n",
              "        vertical-align: top;\n",
              "    }\n",
              "\n",
              "    .dataframe thead th {\n",
              "        text-align: right;\n",
              "    }\n",
              "</style>\n",
              "<table border=\"1\" class=\"dataframe\">\n",
              "  <thead>\n",
              "    <tr style=\"text-align: right;\">\n",
              "      <th></th>\n",
              "      <th>authoritarianism_component</th>\n",
              "      <th>populism_component</th>\n",
              "      <th>nativismm_component</th>\n",
              "      <th>genre_component</th>\n",
              "      <th>V95</th>\n",
              "      <th>V57_married</th>\n",
              "      <th>V57_separated_divorced_widowed</th>\n",
              "      <th>V58_children</th>\n",
              "      <th>unemployed</th>\n",
              "      <th>second_halve</th>\n",
              "      <th>male</th>\n",
              "      <th>V241_boomer</th>\n",
              "      <th>V241_generation_x</th>\n",
              "      <th>V241_millennial</th>\n",
              "      <th>university_education</th>\n",
              "    </tr>\n",
              "  </thead>\n",
              "  <tbody>\n",
              "    <tr>\n",
              "      <th>0</th>\n",
              "      <td>0.12612</td>\n",
              "      <td>-0.172461</td>\n",
              "      <td>0.166672</td>\n",
              "      <td>0.068485</td>\n",
              "      <td>0.280558</td>\n",
              "      <td>0.096217</td>\n",
              "      <td>-0.014411</td>\n",
              "      <td>0.211299</td>\n",
              "      <td>0.334569</td>\n",
              "      <td>-0.365083</td>\n",
              "      <td>-0.037057</td>\n",
              "      <td>0.144571</td>\n",
              "      <td>0.264582</td>\n",
              "      <td>0.470945</td>\n",
              "      <td>-0.415001</td>\n",
              "    </tr>\n",
              "  </tbody>\n",
              "</table>\n",
              "</div>\n",
              "    <div class=\"colab-df-buttons\">\n",
              "\n",
              "  <div class=\"colab-df-container\">\n",
              "    <button class=\"colab-df-convert\" onclick=\"convertToInteractive('df-591c979e-7b4f-4748-ab24-1e8d1c77297e')\"\n",
              "            title=\"Convert this dataframe to an interactive table.\"\n",
              "            style=\"display:none;\">\n",
              "\n",
              "  <svg xmlns=\"http://www.w3.org/2000/svg\" height=\"24px\" viewBox=\"0 -960 960 960\">\n",
              "    <path d=\"M120-120v-720h720v720H120Zm60-500h600v-160H180v160Zm220 220h160v-160H400v160Zm0 220h160v-160H400v160ZM180-400h160v-160H180v160Zm440 0h160v-160H620v160ZM180-180h160v-160H180v160Zm440 0h160v-160H620v160Z\"/>\n",
              "  </svg>\n",
              "    </button>\n",
              "\n",
              "  <style>\n",
              "    .colab-df-container {\n",
              "      display:flex;\n",
              "      gap: 12px;\n",
              "    }\n",
              "\n",
              "    .colab-df-convert {\n",
              "      background-color: #E8F0FE;\n",
              "      border: none;\n",
              "      border-radius: 50%;\n",
              "      cursor: pointer;\n",
              "      display: none;\n",
              "      fill: #1967D2;\n",
              "      height: 32px;\n",
              "      padding: 0 0 0 0;\n",
              "      width: 32px;\n",
              "    }\n",
              "\n",
              "    .colab-df-convert:hover {\n",
              "      background-color: #E2EBFA;\n",
              "      box-shadow: 0px 1px 2px rgba(60, 64, 67, 0.3), 0px 1px 3px 1px rgba(60, 64, 67, 0.15);\n",
              "      fill: #174EA6;\n",
              "    }\n",
              "\n",
              "    .colab-df-buttons div {\n",
              "      margin-bottom: 4px;\n",
              "    }\n",
              "\n",
              "    [theme=dark] .colab-df-convert {\n",
              "      background-color: #3B4455;\n",
              "      fill: #D2E3FC;\n",
              "    }\n",
              "\n",
              "    [theme=dark] .colab-df-convert:hover {\n",
              "      background-color: #434B5C;\n",
              "      box-shadow: 0px 1px 3px 1px rgba(0, 0, 0, 0.15);\n",
              "      filter: drop-shadow(0px 1px 2px rgba(0, 0, 0, 0.3));\n",
              "      fill: #FFFFFF;\n",
              "    }\n",
              "  </style>\n",
              "\n",
              "    <script>\n",
              "      const buttonEl =\n",
              "        document.querySelector('#df-591c979e-7b4f-4748-ab24-1e8d1c77297e button.colab-df-convert');\n",
              "      buttonEl.style.display =\n",
              "        google.colab.kernel.accessAllowed ? 'block' : 'none';\n",
              "\n",
              "      async function convertToInteractive(key) {\n",
              "        const element = document.querySelector('#df-591c979e-7b4f-4748-ab24-1e8d1c77297e');\n",
              "        const dataTable =\n",
              "          await google.colab.kernel.invokeFunction('convertToInteractive',\n",
              "                                                    [key], {});\n",
              "        if (!dataTable) return;\n",
              "\n",
              "        const docLinkHtml = 'Like what you see? Visit the ' +\n",
              "          '<a target=\"_blank\" href=https://colab.research.google.com/notebooks/data_table.ipynb>data table notebook</a>'\n",
              "          + ' to learn more about interactive tables.';\n",
              "        element.innerHTML = '';\n",
              "        dataTable['output_type'] = 'display_data';\n",
              "        await google.colab.output.renderOutput(dataTable, element);\n",
              "        const docLink = document.createElement('div');\n",
              "        docLink.innerHTML = docLinkHtml;\n",
              "        element.appendChild(docLink);\n",
              "      }\n",
              "    </script>\n",
              "  </div>\n",
              "\n",
              "\n",
              "    </div>\n",
              "  </div>\n"
            ],
            "application/vnd.google.colaboratory.intrinsic+json": {
              "type": "dataframe",
              "variable_name": "coef_df_3",
              "summary": "{\n  \"name\": \"coef_df_3\",\n  \"rows\": 1,\n  \"fields\": [\n    {\n      \"column\": \"authoritarianism_component\",\n      \"properties\": {\n        \"dtype\": \"number\",\n        \"std\": null,\n        \"min\": 0.12612005443923416,\n        \"max\": 0.12612005443923416,\n        \"num_unique_values\": 1,\n        \"samples\": [\n          0.12612005443923416\n        ],\n        \"semantic_type\": \"\",\n        \"description\": \"\"\n      }\n    },\n    {\n      \"column\": \"populism_component\",\n      \"properties\": {\n        \"dtype\": \"number\",\n        \"std\": null,\n        \"min\": -0.17246103412232733,\n        \"max\": -0.17246103412232733,\n        \"num_unique_values\": 1,\n        \"samples\": [\n          -0.17246103412232733\n        ],\n        \"semantic_type\": \"\",\n        \"description\": \"\"\n      }\n    },\n    {\n      \"column\": \"nativismm_component\",\n      \"properties\": {\n        \"dtype\": \"number\",\n        \"std\": null,\n        \"min\": 0.16667223612533133,\n        \"max\": 0.16667223612533133,\n        \"num_unique_values\": 1,\n        \"samples\": [\n          0.16667223612533133\n        ],\n        \"semantic_type\": \"\",\n        \"description\": \"\"\n      }\n    },\n    {\n      \"column\": \"genre_component\",\n      \"properties\": {\n        \"dtype\": \"number\",\n        \"std\": null,\n        \"min\": 0.06848541184030399,\n        \"max\": 0.06848541184030399,\n        \"num_unique_values\": 1,\n        \"samples\": [\n          0.06848541184030399\n        ],\n        \"semantic_type\": \"\",\n        \"description\": \"\"\n      }\n    },\n    {\n      \"column\": \"V95\",\n      \"properties\": {\n        \"dtype\": \"number\",\n        \"std\": null,\n        \"min\": 0.28055768691786165,\n        \"max\": 0.28055768691786165,\n        \"num_unique_values\": 1,\n        \"samples\": [\n          0.28055768691786165\n        ],\n        \"semantic_type\": \"\",\n        \"description\": \"\"\n      }\n    },\n    {\n      \"column\": \"V57_married\",\n      \"properties\": {\n        \"dtype\": \"number\",\n        \"std\": null,\n        \"min\": 0.09621703494553004,\n        \"max\": 0.09621703494553004,\n        \"num_unique_values\": 1,\n        \"samples\": [\n          0.09621703494553004\n        ],\n        \"semantic_type\": \"\",\n        \"description\": \"\"\n      }\n    },\n    {\n      \"column\": \"V57_separated_divorced_widowed\",\n      \"properties\": {\n        \"dtype\": \"number\",\n        \"std\": null,\n        \"min\": -0.01441052339630455,\n        \"max\": -0.01441052339630455,\n        \"num_unique_values\": 1,\n        \"samples\": [\n          -0.01441052339630455\n        ],\n        \"semantic_type\": \"\",\n        \"description\": \"\"\n      }\n    },\n    {\n      \"column\": \"V58_children\",\n      \"properties\": {\n        \"dtype\": \"number\",\n        \"std\": null,\n        \"min\": 0.21129936353688403,\n        \"max\": 0.21129936353688403,\n        \"num_unique_values\": 1,\n        \"samples\": [\n          0.21129936353688403\n        ],\n        \"semantic_type\": \"\",\n        \"description\": \"\"\n      }\n    },\n    {\n      \"column\": \"unemployed\",\n      \"properties\": {\n        \"dtype\": \"number\",\n        \"std\": null,\n        \"min\": 0.33456877198372953,\n        \"max\": 0.33456877198372953,\n        \"num_unique_values\": 1,\n        \"samples\": [\n          0.33456877198372953\n        ],\n        \"semantic_type\": \"\",\n        \"description\": \"\"\n      }\n    },\n    {\n      \"column\": \"second_halve\",\n      \"properties\": {\n        \"dtype\": \"number\",\n        \"std\": null,\n        \"min\": -0.36508310656351217,\n        \"max\": -0.36508310656351217,\n        \"num_unique_values\": 1,\n        \"samples\": [\n          -0.36508310656351217\n        ],\n        \"semantic_type\": \"\",\n        \"description\": \"\"\n      }\n    },\n    {\n      \"column\": \"male\",\n      \"properties\": {\n        \"dtype\": \"number\",\n        \"std\": null,\n        \"min\": -0.03705677580276075,\n        \"max\": -0.03705677580276075,\n        \"num_unique_values\": 1,\n        \"samples\": [\n          -0.03705677580276075\n        ],\n        \"semantic_type\": \"\",\n        \"description\": \"\"\n      }\n    },\n    {\n      \"column\": \"V241_boomer\",\n      \"properties\": {\n        \"dtype\": \"number\",\n        \"std\": null,\n        \"min\": 0.14457125044829205,\n        \"max\": 0.14457125044829205,\n        \"num_unique_values\": 1,\n        \"samples\": [\n          0.14457125044829205\n        ],\n        \"semantic_type\": \"\",\n        \"description\": \"\"\n      }\n    },\n    {\n      \"column\": \"V241_generation_x\",\n      \"properties\": {\n        \"dtype\": \"number\",\n        \"std\": null,\n        \"min\": 0.2645823823107757,\n        \"max\": 0.2645823823107757,\n        \"num_unique_values\": 1,\n        \"samples\": [\n          0.2645823823107757\n        ],\n        \"semantic_type\": \"\",\n        \"description\": \"\"\n      }\n    },\n    {\n      \"column\": \"V241_millennial\",\n      \"properties\": {\n        \"dtype\": \"number\",\n        \"std\": null,\n        \"min\": 0.4709454997356797,\n        \"max\": 0.4709454997356797,\n        \"num_unique_values\": 1,\n        \"samples\": [\n          0.4709454997356797\n        ],\n        \"semantic_type\": \"\",\n        \"description\": \"\"\n      }\n    },\n    {\n      \"column\": \"university_education\",\n      \"properties\": {\n        \"dtype\": \"number\",\n        \"std\": null,\n        \"min\": -0.4150012822051466,\n        \"max\": -0.4150012822051466,\n        \"num_unique_values\": 1,\n        \"samples\": [\n          -0.4150012822051466\n        ],\n        \"semantic_type\": \"\",\n        \"description\": \"\"\n      }\n    }\n  ]\n}"
            }
          },
          "metadata": {},
          "execution_count": 175
        }
      ]
    },
    {
      "cell_type": "markdown",
      "source": [
        "# Coefficients"
      ],
      "metadata": {
        "id": "TC9yruneogg0"
      }
    },
    {
      "cell_type": "code",
      "source": [
        "# Add a constant term to the independent variables\n",
        "X_train_3_with_const = sm.add_constant(X_train_3)\n",
        "\n",
        "# Fit logistic regression model\n",
        "logit_model_3 = sm.Logit(y_train_3, X_train_3_with_const)\n",
        "\n",
        "# Obtain results summary\n",
        "result_3 = logit_model_3.fit()\n",
        "\n",
        "# Print the summary\n",
        "print(result_3.summary())"
      ],
      "metadata": {
        "colab": {
          "base_uri": "https://localhost:8080/"
        },
        "id": "4Ts7HqGdYg-t",
        "outputId": "c6d6b9a7-41f6-44c5-f686-f5eb1724cd0e"
      },
      "execution_count": null,
      "outputs": [
        {
          "output_type": "stream",
          "name": "stdout",
          "text": [
            "Optimization terminated successfully.\n",
            "         Current function value: 0.339001\n",
            "         Iterations 7\n",
            "                           Logit Regression Results                           \n",
            "==============================================================================\n",
            "Dep. Variable:               prr_vote   No. Observations:                 6346\n",
            "Model:                          Logit   Df Residuals:                     6330\n",
            "Method:                           MLE   Df Model:                           15\n",
            "Date:                Mon, 11 Mar 2024   Pseudo R-squ.:                 0.09265\n",
            "Time:                        18:03:57   Log-Likelihood:                -2151.3\n",
            "converged:                       True   LL-Null:                       -2371.0\n",
            "Covariance Type:            nonrobust   LLR p-value:                 3.669e-84\n",
            "==================================================================================================\n",
            "                                     coef    std err          z      P>|z|      [0.025      0.975]\n",
            "--------------------------------------------------------------------------------------------------\n",
            "const                             -2.4299      0.169    -14.378      0.000      -2.761      -2.099\n",
            "authoritarianism_component         0.1258      0.034      3.670      0.000       0.059       0.193\n",
            "populism_component                -0.1724      0.019     -9.176      0.000      -0.209      -0.136\n",
            "nativismm_component                0.1665      0.024      7.000      0.000       0.120       0.213\n",
            "genre_component                    0.0684      0.026      2.642      0.008       0.018       0.119\n",
            "V95                                0.2811      0.040      6.989      0.000       0.202       0.360\n",
            "V57_married                        0.0974      0.147      0.662      0.508      -0.191       0.386\n",
            "V57_separated_divorced_widowed    -0.0112      0.172     -0.065      0.948      -0.348       0.325\n",
            "V58_children                       0.2156      0.132      1.633      0.102      -0.043       0.474\n",
            "unemployed                         0.3346      0.100      3.335      0.001       0.138       0.531\n",
            "second_halve                      -0.3688      0.099     -3.720      0.000      -0.563      -0.174\n",
            "male                              -0.0369      0.085     -0.436      0.663      -0.203       0.129\n",
            "V241_boomer                        0.1537      0.119      1.294      0.196      -0.079       0.386\n",
            "V241_generation_x                  0.2755      0.130      2.122      0.034       0.021       0.530\n",
            "V241_millennial                    0.4866      0.151      3.218      0.001       0.190       0.783\n",
            "university_education              -0.4190      0.096     -4.378      0.000      -0.607      -0.231\n",
            "==================================================================================================\n"
          ]
        }
      ]
    },
    {
      "cell_type": "code",
      "source": [
        "def nagelkerke_r2(model):\n",
        "    yhat = model.predict()\n",
        "\n",
        "    # Handle potential negative values\n",
        "    yhat_logit = np.log(np.clip(yhat, 1e-15, 1 - 1e-15) / np.clip(1 - yhat, 1e-15, 1 - 1e-15))\n",
        "    y_logit = np.log(np.clip(model.model.endog, 1e-15, 1 - 1e-15) / np.clip(1 - model.model.endog, 1e-15, 1 - 1e-15))\n",
        "\n",
        "    ll_full = np.sum(y_logit)\n",
        "    ll_reduced = np.sum(yhat_logit)\n",
        "\n",
        "    r2 = 1 - (ll_reduced / ll_full)**(2 / len(model.model.endog))\n",
        "\n",
        "    return r2\n",
        "\n",
        "result = model.fit()\n",
        "print(\"Nagelkerke's R-squared:\", nagelkerke_r2(result))"
      ],
      "metadata": {
        "colab": {
          "base_uri": "https://localhost:8080/"
        },
        "id": "lBVXn6fvtSly",
        "outputId": "6d49b68a-3bae-48b3-c992-1ab3e8e92cc0"
      },
      "execution_count": null,
      "outputs": [
        {
          "output_type": "stream",
          "name": "stdout",
          "text": [
            "Optimization terminated successfully.\n",
            "         Current function value: 0.359635\n",
            "         Iterations 7\n",
            "Nagelkerke's R-squared: 0.0005933055090998618\n"
          ]
        }
      ]
    },
    {
      "cell_type": "code",
      "source": [
        "# Extract log-likelihood from the logistic regression model summary\n",
        "log_likelihood = result_3.llf  # llf is the log-likelihood attribute in statsmodels\n",
        "\n",
        "# Calculate Cox & Snell's R-squared\n",
        "cox_snell_r2 = cox_snell_r_squared(log_likelihood, len(y_train_3), 0.5)\n",
        "\n",
        "# Calculate Max Possible R-squared (Cox & Snell)\n",
        "max_possible_r2 = cox_snell_r_squared(0, len(y_train_3), 0.5)\n",
        "\n",
        "# Calculate Nagelkerke's R-squared\n",
        "nagelkerke_r2 = nagelkerke_r_squared(cox_snell_r2, max_possible_r2)\n",
        "\n",
        "print(\"Cox & Snell's R-squared:\", cox_snell_r2)\n",
        "print(\"Nagelkerke's R-squared:\", nagelkerke_r2)\n"
      ],
      "metadata": {
        "id": "ftarsvlSBj0L",
        "colab": {
          "base_uri": "https://localhost:8080/"
        },
        "outputId": "0339f44d-225c-44bd-e010-945313b471ae"
      },
      "execution_count": null,
      "outputs": [
        {
          "output_type": "stream",
          "name": "stdout",
          "text": [
            "Cox & Snell's R-squared: -0.00021370139548593237\n",
            "Nagelkerke's R-squared: -inf\n"
          ]
        },
        {
          "output_type": "stream",
          "name": "stderr",
          "text": [
            "<ipython-input-5-fef66708883d>:73: RuntimeWarning: divide by zero encountered in scalar divide\n",
            "  return cox_snell_r_squared / max_possible_r_squared\n"
          ]
        }
      ]
    }
  ],
  "metadata": {
    "colab": {
      "provenance": [],
      "collapsed_sections": [
        "bIw4fM97M05T",
        "Zzv2Qp5zMuqY",
        "CREplVFtM5ju",
        "Sh2uK48TPwO7",
        "jvsfS3RPE7Pb",
        "CFDvFWl0FYA3",
        "6Vl6me2fbFbu"
      ]
    },
    "kernelspec": {
      "display_name": "Python 3",
      "name": "python3"
    },
    "language_info": {
      "name": "python"
    }
  },
  "nbformat": 4,
  "nbformat_minor": 0
}